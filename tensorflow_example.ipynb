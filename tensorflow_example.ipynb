{
  "nbformat": 4,
  "nbformat_minor": 0,
  "metadata": {
    "colab": {
      "name": "tensorflow_example.ipynb",
      "version": "0.3.2",
      "provenance": [],
      "collapsed_sections": [],
      "include_colab_link": true
    },
    "kernelspec": {
      "name": "python3",
      "display_name": "Python 3"
    }
  },
  "cells": [
    {
      "cell_type": "markdown",
      "metadata": {
        "id": "view-in-github",
        "colab_type": "text"
      },
      "source": [
        "<a href=\"https://colab.research.google.com/github/luxizh/EE62_Select_topic_for_Computer_Vision_Colab/blob/master/tensorflow_example.ipynb\" target=\"_parent\"><img src=\"https://colab.research.google.com/assets/colab-badge.svg\" alt=\"Open In Colab\"/></a>"
      ]
    },
    {
      "metadata": {
        "id": "2RCgKv8Dpc85",
        "colab_type": "code",
        "outputId": "1086d406-acc3-445c-e07e-d225a46717bc",
        "colab": {
          "base_uri": "https://localhost:8080/",
          "height": 51
        }
      },
      "cell_type": "code",
      "source": [
        "\n",
        "# Standard numpy for matrices, vectors, etc..\n",
        "import numpy as np\n",
        "\n",
        "# Visualisation (plotting, etc..)\n",
        "import matplotlib.pyplot as plt\n",
        "%matplotlib inline\n",
        "\n",
        "# New for today! Tensorflow from Google: \n",
        "# https://www.tensorflow.org\n",
        "import tensorflow as tf\n",
        "\n",
        "# Please see the following page for getting \n",
        "# started guide and tutorials:\n",
        "# https://www.tensorflow.org/get_started/\n",
        "\n",
        "try:\n",
        "    in_colab = False\n",
        "    import google.colab\n",
        "    in_colab = True\n",
        "except:\n",
        "    pass\n",
        "\n",
        "# Use the following to access tensorboard when running on colab\n",
        "if in_colab:\n",
        "    !pip install -U tensorboardcolab\n",
        "    from tensorboardcolab import *\n",
        "   "
      ],
      "execution_count": 0,
      "outputs": [
        {
          "output_type": "stream",
          "text": [
            "Requirement already up-to-date: tensorboardcolab in /usr/local/lib/python3.6/dist-packages (0.0.22)\n"
          ],
          "name": "stdout"
        },
        {
          "output_type": "stream",
          "text": [
            "Using TensorFlow backend.\n"
          ],
          "name": "stderr"
        }
      ]
    },
    {
      "metadata": {
        "id": "T0AfXfA4pomh",
        "colab_type": "code",
        "outputId": "579ea6bb-6811-4b60-ce10-9d5247123f54",
        "colab": {
          "base_uri": "https://localhost:8080/",
          "height": 119
        }
      },
      "cell_type": "code",
      "source": [
        "\n",
        "# What we are used to in standard programming:\n",
        "\n",
        "a = np.array([1.0, 2.0, 3.0])\n",
        "\n",
        "b = np.array([2.0, 2.0, 2.0])\n",
        "\n",
        "a_plus_b = a + b\n",
        "\n",
        "a_power_b = a ** b\n",
        "\n",
        "c = a_plus_b * a_power_b\n",
        "\n",
        "print('In numpy:')\n",
        "print('a = ', a)\n",
        "print('a = ', b)\n",
        "print('a + b = ', a_plus_b)\n",
        "print('a ** b = ', a_power_b)\n",
        "print('c = (a + b) * (a ** b) = ', c)"
      ],
      "execution_count": 0,
      "outputs": [
        {
          "output_type": "stream",
          "text": [
            "In numpy:\n",
            "a =  [1. 2. 3.]\n",
            "a =  [2. 2. 2.]\n",
            "a + b =  [3. 4. 5.]\n",
            "a ** b =  [1. 4. 9.]\n",
            "c = (a + b) * (a ** b) =  [ 3. 16. 45.]\n"
          ],
          "name": "stdout"
        }
      ]
    },
    {
      "metadata": {
        "id": "1512hvZtpu3A",
        "colab_type": "code",
        "outputId": "789609d6-9f8c-4a08-b901-a6e20df56fa3",
        "colab": {
          "base_uri": "https://localhost:8080/",
          "height": 119
        }
      },
      "cell_type": "code",
      "source": [
        "\n",
        "# Let's do this with tensorflow:\n",
        "#\n",
        "# (Using t_ to denote tensorflow)\n",
        "#\n",
        "\n",
        "# Reset tensorflow!\n",
        "tf.reset_default_graph()\n",
        "\n",
        "t_a = tf.constant(a, name='a')\n",
        "\n",
        "t_b = tf.constant(b, name='b')\n",
        "\n",
        "t_a_plus_b = t_a + t_b\n",
        "\n",
        "t_a_power_b = t_a ** t_b\n",
        "\n",
        "t_c = t_a_plus_b * t_a_power_b\n",
        "\n",
        "print('In tensorflow:')\n",
        "print('a = ', t_a)\n",
        "print('b = ', t_b)\n",
        "print('a + b = ', t_a_plus_b)\n",
        "print('a ** b = ', t_a_power_b)\n",
        "print('c = (a + b) * (a ** b) = ', t_c)"
      ],
      "execution_count": 0,
      "outputs": [
        {
          "output_type": "stream",
          "text": [
            "In tensorflow:\n",
            "a =  Tensor(\"a:0\", shape=(3,), dtype=float64)\n",
            "b =  Tensor(\"b:0\", shape=(3,), dtype=float64)\n",
            "a + b =  Tensor(\"add:0\", shape=(3,), dtype=float64)\n",
            "a ** b =  Tensor(\"pow:0\", shape=(3,), dtype=float64)\n",
            "c = (a + b) * (a ** b) =  Tensor(\"mul:0\", shape=(3,), dtype=float64)\n"
          ],
          "name": "stdout"
        }
      ]
    },
    {
      "metadata": {
        "id": "Yt2jg9pdp1Np",
        "colab_type": "code",
        "outputId": "434681a8-cf16-46dd-9f2f-9fd313688402",
        "colab": {
          "base_uri": "https://localhost:8080/",
          "height": 68
        }
      },
      "cell_type": "code",
      "source": [
        "# Can ignore this code for now, this just creates a \n",
        "# visualisation file so we can see what is going on!\n",
        "\n",
        "with tf.Session() as session:\n",
        "    if in_colab:\n",
        "        tbc = TensorBoardColab()\n",
        "        summary_file_writer = tbc.get_writer()\n",
        "        summary_file_writer.add_graph(session.graph)\n",
        "        summary_file_writer.flush()\n",
        "        tbc.close()\n",
        "    else:\n",
        "        summary_file_writer = tf.summary.FileWriter(\n",
        "            'visualisation_files', session.graph)\n",
        "        summary_file_writer.flush()\n",
        "\n",
        "# This has created a folder called \"visualisation_files\" \n",
        "# with some data in it that we can view with the command:\n",
        "#\n",
        "# tensorboard --logdir=visualisation_files\n",
        "#\n",
        "# If in colab, the TensorBoardColab call will output a link to follow\n",
        "#"
      ],
      "execution_count": 0,
      "outputs": [
        {
          "output_type": "stream",
          "text": [
            "Wait for 8 seconds...\n",
            "TensorBoard link:\n",
            "http://9e84705a.ngrok.io\n"
          ],
          "name": "stdout"
        }
      ]
    },
    {
      "metadata": {
        "id": "j253L3B8pf2P",
        "colab_type": "text"
      },
      "cell_type": "markdown",
      "source": [
        "\n",
        "This has created a computational graph!\n",
        "You can see the graph in tensorboard from the previous cell.\n",
        "\n",
        "Why would we want to do this?\n",
        "..."
      ]
    },
    {
      "metadata": {
        "id": "nhGl_MHsqBpC",
        "colab_type": "code",
        "outputId": "d1da33d4-14de-48ae-8c8b-8a5383ea947f",
        "colab": {
          "base_uri": "https://localhost:8080/",
          "height": 34
        }
      },
      "cell_type": "code",
      "source": [
        "\n",
        "# First - does it actually work?\n",
        "\n",
        "# In order to use the graph we have to \"run\" it!\n",
        "# In tensorflow, we need to run things inside of a session\n",
        "\n",
        "# This line creates a session..\n",
        "with tf.Session() as session:\n",
        "    # Inside here we can use the \"session\" object created..\n",
        "    \n",
        "    # Let's run our graph to actually compute something!\n",
        "    result = session.run(t_c)\n",
        "    \n",
        "    print(\"result = \", result)\n",
        "    \n",
        "# Outside of the \"with\" statement the session object is \n",
        "# deleted and we can no longer use it\n",
        "#\n",
        "# This line would cause an error:\n",
        "# result_again = session.run(t_c)"
      ],
      "execution_count": 0,
      "outputs": [
        {
          "output_type": "stream",
          "text": [
            "result =  [ 3. 16. 45.]\n"
          ],
          "name": "stdout"
        }
      ]
    },
    {
      "metadata": {
        "id": "J6RJfXf8qEsl",
        "colab_type": "code",
        "outputId": "7f375223-bd1b-42a7-a152-6c246d5fc0fb",
        "colab": {
          "base_uri": "https://localhost:8080/",
          "height": 221
        }
      },
      "cell_type": "code",
      "source": [
        "\n",
        "# Let's check everything makes sense:\n",
        "\n",
        "print('In numpy:')\n",
        "print('a = ', a)\n",
        "print('a = ', b)\n",
        "print('a + b = ', a_plus_b)\n",
        "print('a ** b = ', a_power_b)\n",
        "print('c = (a + b) * (a ** b) = ', c)\n",
        "\n",
        "with tf.Session() as session:\n",
        "    print('In tensorflow session:')   \n",
        "    print('a = ', session.run(t_a))\n",
        "    print('a = ', session.run(t_b))\n",
        "    print('a + b = ', session.run(t_a_plus_b))\n",
        "    print('a ** b = ', session.run(t_a_power_b))\n",
        "    print('c = (a + b) * (a ** b) = ', session.run(t_c))\n",
        "\n",
        "# Everything should be the same!"
      ],
      "execution_count": 0,
      "outputs": [
        {
          "output_type": "stream",
          "text": [
            "In numpy:\n",
            "a =  [1. 2. 3.]\n",
            "a =  [2. 2. 2.]\n",
            "a + b =  [3. 4. 5.]\n",
            "a ** b =  [1. 4. 9.]\n",
            "c = (a + b) * (a ** b) =  [ 3. 16. 45.]\n",
            "In tensorflow session:\n",
            "a =  [1. 2. 3.]\n",
            "a =  [2. 2. 2.]\n",
            "a + b =  [3. 4. 5.]\n",
            "a ** b =  [1. 4. 9.]\n",
            "c = (a + b) * (a ** b) =  [ 3. 16. 45.]\n"
          ],
          "name": "stdout"
        }
      ]
    },
    {
      "metadata": {
        "id": "-o2zGAGVqKMp",
        "colab_type": "text"
      },
      "cell_type": "markdown",
      "source": [
        "So it seems to work!\n",
        "But isn't this more effort than the numpy version?\n",
        "...\n",
        "\n",
        "What if we are doing an optimistion?\n",
        "We want to fit a Gaussian distribution $\\mathcal{N}(\\mu, \\sigma^2)$ to a set of numbers $X = \\{ x_0, x_1, \\dots, x_{N-1} \\}$\n",
        "\n",
        "If we assume the numbers are i.i.d. (indentically and independently distributed) samples from a Gaussian then the likelihood of $X$ is given by:\n",
        "\n",
        "$$\\begin{align}\n",
        "p(X) &amp;= p(x_0) \\cdot p(x_1) \\cdot \\dots \\cdot p(x_{N-1}) \\\\\n",
        " &amp;= \\mathcal{N}(x_0 \\,|\\, \\mu, \\sigma^2) \\cdot \\mathcal{N}(x_1 \\,|\\, \\mu, \\sigma^2) \\cdot \\dots \\cdot \\mathcal{N}(x_{N-1} \\,|\\, \\mu, \\sigma^2) \\\\\n",
        " &amp;= \\prod_{n=0}^{N-1} \\mathcal{N}(x_{n} \\,|\\, \\mu, \\sigma^2) \\\\\n",
        " &amp;= \\prod_{n=0}^{N-1} \\frac{1}{\\sqrt{2\\pi\\sigma^2}} \n",
        "    \\exp{\\left( - \\frac{(x_{n} - \\mu)^2}{2\\sigma^2} \\right)}\n",
        "\\end{align}$$\n",
        "Top Tip! When working with exponential family of distributions it often helps to work in the log domain..\n",
        "\n",
        "$$\\begin{align}\n",
        "\\log  p(X)  &amp;= \\sum_{n=0}^{N-1} \n",
        "    -\\frac{1}{2} \\log{\\left( 2\\pi\\sigma^2 \\right)}\n",
        "    -\\frac{(x_{n} - \\mu)^2}{2\\sigma^2}\n",
        "\\end{align}$$\n",
        "So, we have the maximum likelihood fit to the parameters when we find the values of $\\mu$ and $\\sigma^2$ that maximise $p(X)$ which (since $\\log\\,(\\cdot)$ is a concave function) occurs at the same time that $\\log p(X)$ is maximised.\n",
        "\n",
        "In our case we can find an analytic solution for\n",
        "\n",
        "$$\\begin{align}\n",
        "\\mu^{*} &amp;= {\\arg\\max}_{\\mu} \\, \\log p(X) \\\\\n",
        "{\\sigma^{*}}^2 &amp;= {\\arg\\max}_{\\sigma^2} \\, \\log p(X) \\\\\n",
        "\\end{align}$$\n",
        "But let's pretend that the problem was more complicated and we needed to use optimisation to solve the problem..\n",
        "\n",
        "To perform numerical optimisation we need to be able to calculate gradients of the objective function ($\\log p(X)$) wrt the parameters that you are optimising ($\\mu$ and $\\sigma^2$).\n",
        "\n",
        "Let's see how to do this in tensorflow.."
      ]
    },
    {
      "metadata": {
        "id": "2gEbmOWjqVaQ",
        "colab_type": "code",
        "outputId": "e4354946-9d23-4dec-e037-6eddbe0d702b",
        "colab": {
          "base_uri": "https://localhost:8080/",
          "height": 85
        }
      },
      "cell_type": "code",
      "source": [
        "# First let's generate some numbers to fit the data to..\n",
        "\n",
        "# How many values of x?\n",
        "N = 20\n",
        "\n",
        "# Pick the real mean and variance..\n",
        "mu_true = 2.5\n",
        "sigma_true = 1.5\n",
        "\n",
        "x_n = np.random.normal(mu_true, sigma_true, N)\n",
        "\n",
        "np.set_printoptions(precision=3, linewidth=50)\n",
        "print('X = \\n', np.transpose(x_n))"
      ],
      "execution_count": 0,
      "outputs": [
        {
          "output_type": "stream",
          "text": [
            "X = \n",
            " [ 3.36   1.684  1.325  4.776  1.54   1.849  3.184\n",
            "  1.799  2.041  0.403  6.602  4.543  2.089  5.765\n",
            "  0.916  3.387  1.491 -0.381  1.538 -1.147]\n"
          ],
          "name": "stdout"
        }
      ]
    },
    {
      "metadata": {
        "id": "SxGX4ujekqLQ",
        "colab_type": "text"
      },
      "cell_type": "markdown",
      "source": [
        "We are now going to build our tensorflow graph but we are going to account for the fact that $\\mu$ and $\\sigma^2$ are no longer constants since we wish to vary their values to find the maximum of $\\log p(X)$. With numerical optimisation, we need to start with a guess for the values of $\\mu$ and $\\sigma^2$; in this case, we will start with \\begin{align} \\mu{\\mathrm{initial}} &= 1\\ \\sigma^2{\\mathrm{initial}} &= 1 \\end{align}\n",
        "\n",
        "Top Tip! Care needs to be taken with $\\sigma$ since it can only be a positive value (unlike $\\mu$ which can be any real number). In general, tensorflow variables can be positive or negative. In this example we square the value of t_sigma before using it to ensure that t_sigma_2 is a positive value but we shouldn't, therefore, use the value for t_sigma directly in calculations..\n",
        "\n",
        "As a reminder, we want to find: \\begin{align} \\log p(X) &= \\sum{n=0}^{N-1} -\\frac{1}{2} \\log{\\left( 2\\pi\\sigma^2 \\right)} -\\frac{(x{n} - \\mu)^2}{2\\sigma^2} % \\ % &= -\\frac{N}{2} \\log{\\left( 2\\pi\\sigma^2 \\right)} % - \\frac{1}{2\\sigma^2} \\sum{n=0}^{N-1}\\left(x{n} - \\mu\\right)^2 \\end{align}"
      ]
    },
    {
      "metadata": {
        "id": "jYcgtvVZk5cG",
        "colab_type": "code",
        "colab": {}
      },
      "cell_type": "code",
      "source": [
        "# Reset tensorflow to remove our old a, b, etc..\n",
        "tf.reset_default_graph()\n",
        "\n",
        "# Our initial guesses..\n",
        "mu_initial_guess = 1.0\n",
        "sigma_initial_guess = np.sqrt(1.0)\n",
        "\n",
        "# The data to fit to\n",
        "t_x_n = tf.constant(x_n, name='X')\n",
        "\n",
        "# Note: mu and sigma are now *variables* not constants!\n",
        "# We need to specify their data type and initial value.. \n",
        "t_mu = tf.Variable(mu_initial_guess, \n",
        "                   dtype=tf.float64, \n",
        "                   name=\"mu\")\n",
        "t_sigma = tf.Variable(sigma_initial_guess, \n",
        "                      dtype=tf.float64, \n",
        "                      name=\"sigma\")\n",
        "\n",
        "# Note: this step is important - don't use t_sigma directly!! \n",
        "t_sigma_2 = t_sigma ** 2.0\n",
        "\n",
        "# Calculate log p(X) terms..\n",
        "\n",
        "t_x_minus_mu_2 = (t_x_n - t_mu) ** 2.0\n",
        "t_denom = 2.0 * t_sigma_2\n",
        "t_sigma_term = - 0.5 * tf.log(2.0 * np.pi * t_sigma_2)\n",
        "\n",
        "t_log_P_terms = t_sigma_term - (t_x_minus_mu_2 / t_denom)\n",
        "\n",
        "# The sum is performed by a reduction in tensorflow \n",
        "# (since a vector goes in and a scalar comes out)\n",
        "# but this is effectively the same as np.sum(...)\n",
        "t_log_P = tf.reduce_sum(t_log_P_terms)"
      ],
      "execution_count": 0,
      "outputs": []
    },
    {
      "metadata": {
        "id": "SO1r_gLgk6T1",
        "colab_type": "code",
        "outputId": "e5bbfaad-a493-4fec-9567-3600e8de390b",
        "colab": {
          "base_uri": "https://localhost:8080/",
          "height": 119
        }
      },
      "cell_type": "code",
      "source": [
        "# Let's just check that we calculated things correctly:\n",
        "\n",
        "with tf.Session() as session:\n",
        "    # IMPORTANT! Need to run this at the start to\n",
        "    # initialise the values for the variables\n",
        "    # t_mu and t_sigma. You will get an error if \n",
        "    # you forget!\n",
        "    session.run(tf.global_variables_initializer())\n",
        "    \n",
        "    test_value = session.run(t_log_P)\n",
        "    print('Tensorflow log p(X) = ', test_value)\n",
        "    print('(using initial guesses for mu and sigma)\\n')\n",
        "\n",
        "# Check with scipy..\n",
        "from scipy.stats import norm\n",
        "check_value = np.sum(norm.logpdf(x_n, \n",
        "                                 mu_initial_guess, \n",
        "                                 sigma_initial_guess))\n",
        "print('Value from scipy stats package = ', check_value)\n",
        "\n",
        "assert(np.isclose(test_value, check_value))\n",
        "\n",
        "print('\\nEverything working!')"
      ],
      "execution_count": 0,
      "outputs": [
        {
          "output_type": "stream",
          "text": [
            "Tensorflow log p(X) =  -72.79754400059272\n",
            "(using initial guesses for mu and sigma)\n",
            "\n",
            "Value from scipy stats package =  -72.79754400059274\n",
            "\n",
            "Everything working!\n"
          ],
          "name": "stdout"
        }
      ]
    },
    {
      "metadata": {
        "id": "IQP8iFgZlyYt",
        "colab_type": "code",
        "outputId": "ac986f86-a976-4350-ca18-54db1bd7baf7",
        "colab": {
          "base_uri": "https://localhost:8080/",
          "height": 119
        }
      },
      "cell_type": "code",
      "source": [
        "# We can even go crazy and check with different \n",
        "# values of the parameters..\n",
        "\n",
        "mu_new_test_value = 3.3\n",
        "sigma_new_test_value = 0.5\n",
        "\n",
        "with tf.Session() as session:\n",
        "    # IMPORTANT! (see above..)\n",
        "    session.run(tf.global_variables_initializer())\n",
        "    \n",
        "    # Change the values of the variables while the\n",
        "    # session is running..\n",
        "    session.run(t_mu.assign(mu_new_test_value))\n",
        "    session.run(t_sigma.assign(sigma_new_test_value))\n",
        "    \n",
        "    test_value = session.run(t_log_P)\n",
        "    print('New tensorflow log p(X) = ', test_value)\n",
        "    print('(using new values for mu and sigma)\\n')\n",
        "\n",
        "# Check with scipy..\n",
        "from scipy.stats import norm\n",
        "check_value = np.sum(norm.logpdf(x_n, \n",
        "                                 mu_new_test_value, \n",
        "                                 sigma_new_test_value))\n",
        "print('New value from scipy stats package = ', check_value)\n",
        "\n",
        "assert(np.isclose(test_value, check_value))\n",
        "\n",
        "print('\\nEverything working!')"
      ],
      "execution_count": 0,
      "outputs": [
        {
          "output_type": "stream",
          "text": [
            "New tensorflow log p(X) =  -187.56370018968394\n",
            "(using new values for mu and sigma)\n",
            "\n",
            "New value from scipy stats package =  -187.56370018968397\n",
            "\n",
            "Everything working!\n"
          ],
          "name": "stdout"
        }
      ]
    },
    {
      "metadata": {
        "id": "887qJuBrnyCn",
        "colab_type": "text"
      },
      "cell_type": "markdown",
      "source": [
        "\n",
        "So finally, we get to the advantage of tensorflow!\n",
        "\n",
        "Now, we can calculate the objective function and we can calculate the value of the objective when changing the input parameters.\n",
        "\n",
        "This is great for optimisation (since we are going to need to change the parameters to increase the objective) but what we really need for the optimisation is to calculate the gradient of the objective wrt to the parameters. Let's see how to do that in tensorflow.."
      ]
    },
    {
      "metadata": {
        "id": "uHVbiXe7nzAX",
        "colab_type": "code",
        "outputId": "927bb582-398c-4984-f5ee-b505e0787b97",
        "colab": {
          "base_uri": "https://localhost:8080/",
          "height": 51
        }
      },
      "cell_type": "code",
      "source": [
        "with tf.Session() as session:\n",
        "    # IMPORTANT! (see above..)\n",
        "    session.run(tf.global_variables_initializer())\n",
        "    \n",
        "    t_gradient_wrt_mu = tf.gradients(t_log_P, \n",
        "                                     t_mu)\n",
        "    t_gradient_wrt_sigma = tf.gradients(t_log_P, \n",
        "                                        t_sigma)\n",
        "    \n",
        "    grad_mu = session.run(t_gradient_wrt_mu)\n",
        "    grad_sigma = session.run(t_gradient_wrt_sigma)\n",
        "    \n",
        "    print('Gradient wrt mu = ', grad_mu)\n",
        "    print('Gradient wrt sigma = ', grad_sigma)"
      ],
      "execution_count": 0,
      "outputs": [
        {
          "output_type": "stream",
          "text": [
            "Gradient wrt mu =  [26.763828283609534]\n",
            "Gradient wrt sigma =  [88.83754667299857]\n"
          ],
          "name": "stdout"
        }
      ]
    },
    {
      "metadata": {
        "id": "bQRwZYMzphop",
        "colab_type": "text"
      },
      "cell_type": "markdown",
      "source": [
        "\n",
        "Shall we check that result. Remember we have:\n",
        "\n",
        "$$\\begin{align}\n",
        "\\log  p(X)  &amp;= \\sum_{n=0}^{N-1} \n",
        "    -\\frac{1}{2} \\log{\\left( 2\\pi\\sigma^2 \\right)}\n",
        "    -\\frac{(x_{n} - \\mu)^2}{2\\sigma^2} \\\\\n",
        "    &amp;=  -\\frac{N}{2} \\log{\\left( 2\\pi\\sigma^2 \\right)}\n",
        "    - \\frac{1}{2\\sigma^2} \\sum_{n=0}^{N-1}\\left(x_{n} - \\mu\\right)^2\n",
        "\\end{align}$$\n",
        "So for $\\mu$ we have:\n",
        "\n",
        "$$\\begin{align}\n",
        "\\frac{\\partial \\log  p(X)}{\\partial \\mu}   \n",
        "    &amp;= - 0\n",
        "    - \\frac{1}{2\\sigma^2} \\frac{\\partial}{\\partial \\mu}  \\sum_{n=0}^{N-1} \\left(x_{n} - \\mu\\right)^2 \\\\\n",
        "    &amp;= - \\frac{1}{2\\sigma^2} \\sum_{n=0}^{N-1} \\frac{\\partial}{\\partial \\mu} \\left(x_{n} - \\mu\\right)^2 \\\\\n",
        "    &amp;= - \\frac{1}{2\\sigma^2} \\sum_{n=0}^{N-1} 2 \\left(x_{n} - \\mu\\right) \\frac{\\partial}{\\partial \\mu}\\left(x_{n} - \\mu\\right)  \\\\\n",
        "    &amp;= \\frac{1}{\\sigma^2} \\sum_{n=0}^{N-1} \\left(x_{n} - \\mu\\right)\n",
        "\\end{align}$$\n",
        "where we used the \"chain rule\" a number of times.."
      ]
    },
    {
      "metadata": {
        "id": "UYngu6Pwpivo",
        "colab_type": "code",
        "outputId": "c53dcd79-1eb9-435e-f108-15880df0d3c2",
        "colab": {
          "base_uri": "https://localhost:8080/",
          "height": 85
        }
      },
      "cell_type": "code",
      "source": [
        "# numpy check of gradient wrt mu\n",
        "\n",
        "grad_mu_check = np.sum(x_n - mu_initial_guess) / \\\n",
        "                (sigma_initial_guess ** 2)\n",
        "    \n",
        "print('Our analytic gradient wrt mu = ', grad_mu_check)\n",
        "\n",
        "print('Tensorflow gradient wrt mu = ', grad_mu)\n",
        "\n",
        "assert(np.isclose(grad_mu, grad_mu_check))\n",
        "\n",
        "print('\\nExcellent! tensorflow calculated the gradient for us :)')"
      ],
      "execution_count": 0,
      "outputs": [
        {
          "output_type": "stream",
          "text": [
            "Our analytic gradient wrt mu =  26.763828283609534\n",
            "Tensorflow gradient wrt mu =  [26.763828283609534]\n",
            "\n",
            "Excellent! tensorflow calculated the gradient for us :)\n"
          ],
          "name": "stdout"
        }
      ]
    },
    {
      "metadata": {
        "id": "bKwi0ywDpluS",
        "colab_type": "text"
      },
      "cell_type": "markdown",
      "source": [
        "\n",
        "Everyone should now be in awe!\n",
        "This might seem like something trivial but hopefully you can see that actually quite a lot of maths and then coding went into determining the gradient.\n",
        "\n",
        "In fact, you can do the same to check the value for the gradient wrt $\\sigma^2$.\n",
        "\n",
        "When we calculated the result using the chain rule. Since tensorflow built up a graph of the operations, it is able to apply the chain rule results for us automatically.\n",
        "\n",
        "This: \\begin{align} \\log p(X) &= \\sum{n=0}^{N-1} -\\frac{1}{2} \\log{\\left( 2\\pi\\sigma^2 \\right)} -\\frac{(x{n} - \\mu)^2}{2\\sigma^2} % \\ % &= -\\frac{N}{2} \\log{\\left( 2\\pi\\sigma^2 \\right)} % - \\frac{1}{2\\sigma^2} \\sum{n=0}^{N-1}\\left(x{n} - \\mu\\right)^2 \\end{align} has become the computational graph that you can see in tensorboard below.\n",
        "\n",
        "For example, the pow operation represents $r = a^b$ for the inputs $a,b$ and result $r$. Tensorflow then knows that $\\frac{\\partial r}{\\partial a} = b a^{b-1}$, and by chaining these operations together it can work backwards through the graph (from $\\log p(X)$ at the top to $\\mu$ at the bottom) to calculate the gradient.\n",
        "\n",
        "Therefore, the tensorflow graph has multiple uses. A forward pass can calculate the objective for the current set of parameters and a backwards pass can calculate the gradients of an objective wrt any of the parameters."
      ]
    },
    {
      "metadata": {
        "id": "H79hUWLepyl2",
        "colab_type": "code",
        "outputId": "02ee8ef9-d4ae-40e7-896a-78d974ec79da",
        "colab": {
          "base_uri": "https://localhost:8080/",
          "height": 68
        }
      },
      "cell_type": "code",
      "source": [
        "# Look at the computational graph in tensorboard..\n",
        "if in_colab:\n",
        "    tbc = TensorBoardColab()\n",
        "    summary_file_writer = tbc.get_writer()\n",
        "    summary_file_writer.add_graph(session.graph)\n",
        "    summary_file_writer.flush()\n",
        "    tbc.close()\n",
        "else:\n",
        "    summary_file_writer = tf.summary.FileWriter(\n",
        "        'visualisation_files', session.graph)\n",
        "    summary_file_writer.flush()"
      ],
      "execution_count": 0,
      "outputs": [
        {
          "output_type": "stream",
          "text": [
            "Wait for 8 seconds...\n",
            "TensorBoard link:\n",
            "http://9e84705a.ngrok.io\n"
          ],
          "name": "stdout"
        }
      ]
    },
    {
      "metadata": {
        "id": "54g9F_-xpzf9",
        "colab_type": "text"
      },
      "cell_type": "markdown",
      "source": [
        "But the fun doesn't end here!\n",
        "In fact tensorflow has actually done all the work to do the optimisation part, not just calculate the derivatives. So we can now run a full optimisation with our graph and it will use the gradients internally."
      ]
    },
    {
      "metadata": {
        "id": "3RLqztElqRGO",
        "colab_type": "code",
        "outputId": "b72d9dfd-5e85-48f9-b39a-48201ffe9b89",
        "colab": {
          "base_uri": "https://localhost:8080/",
          "height": 306
        }
      },
      "cell_type": "code",
      "source": [
        "\n",
        "# Create a gradient descent optimiser that uses a\n",
        "# certain step size (learning_rate)..\n",
        "optimiser = tf.train.GradientDescentOptimizer(learning_rate=0.05)\n",
        "\n",
        "# We want to maximise log p(X) therefore we \n",
        "# need to minimise - log p(X)\n",
        "t_objective = - t_log_P\n",
        "\n",
        "# We want to optimise wrt mu and sigma\n",
        "vars_to_optimise = [t_mu, t_sigma]\n",
        "\n",
        "minimize_operation = optimiser.minimize(t_objective,\n",
        "                                       var_list=vars_to_optimise)\n",
        "\n",
        "# Number of iterations to perform\n",
        "num_iterations = 50\n",
        "\n",
        "with tf.Session() as session:\n",
        "    # IMPORTANT! (see above..)\n",
        "    session.run(tf.global_variables_initializer())\n",
        "    \n",
        "    # Run a number of iterations of gradient descent..\n",
        "    for iteration in range(num_iterations):\n",
        "        # At each iteration evaluate the minimize_operation\n",
        "        # to perform the gradient descent step and also\n",
        "        # keep track of the current value..\n",
        "        step, cost = session.run([minimize_operation, t_log_P])\n",
        "        \n",
        "        # Print out the value of log P every 10 iterations..\n",
        "        if ((iteration + 1) % 10 == 0):\n",
        "            print('iter %4d, log P(X) = %0.3f' % \n",
        "                  (iteration + 1, cost))\n",
        "    \n",
        "    # Get the final results of the optimisation..\n",
        "    mu_optimised = session.run(t_mu)\n",
        "    sigma_optimised = session.run(t_sigma)\n",
        "    \n",
        "    print('\\nAfter optimisation:')\n",
        "    print('Tensorflow mu = ', mu_optimised)\n",
        "    print('Tensorflow sigma = ', sigma_optimised)\n",
        "\n",
        "print('\\nAnalytic estimates:')\n",
        "print('Estimated mu = ', np.mean(x_n))\n",
        "print('Estimated std = ', np.std(x_n))\n",
        "\n",
        "print('\\nGround truth values:')\n",
        "print('True mu = ', mu_true)\n",
        "print('True sigma = ', sigma_true)"
      ],
      "execution_count": 0,
      "outputs": [
        {
          "output_type": "stream",
          "text": [
            "iter   10, log P(X) = -48.573\n",
            "iter   20, log P(X) = -41.651\n",
            "iter   30, log P(X) = -41.329\n",
            "iter   40, log P(X) = -41.329\n",
            "iter   50, log P(X) = -41.329\n",
            "\n",
            "After optimisation:\n",
            "Tensorflow mu =  2.338191414180738\n",
            "Tensorflow sigma =  1.9107906930663423\n",
            "\n",
            "Analytic estimates:\n",
            "Estimated mu =  2.3381914141804763\n",
            "Estimated std =  1.9107906930544705\n",
            "\n",
            "Ground truth values:\n",
            "True mu =  2.5\n",
            "True sigma =  1.5\n"
          ],
          "name": "stdout"
        }
      ]
    },
    {
      "metadata": {
        "id": "Jq4YdMPiqaVl",
        "colab_type": "text"
      },
      "cell_type": "markdown",
      "source": [
        "\n",
        "Excellent! So we agree with the analytic estimate :)\n",
        "Of course, the values don't match the true estimate since we didn't have a very large sample size.\n",
        "\n",
        "What if we want to run again with more samples?\n",
        "\n",
        "Unfortunately, we made t_x_n a constant at the start of our tensorflow code so now we can't change it. Instead, we could have made it a placeholder. This tells tensorflow \"there will be some data here but I'm going to give it to you later\".\n",
        "\n",
        "How do we give the data later on?\n",
        "\n",
        "We can provide the values to placeholders by specifying a \"feed dictionary\" to session.run. This means, \"during this session use the following values to replace all the placeholders\".\n",
        "\n",
        "Let's do our example again.."
      ]
    },
    {
      "metadata": {
        "id": "nrpYPfyFqc9W",
        "colab_type": "code",
        "colab": {}
      },
      "cell_type": "code",
      "source": [
        "\n",
        "# Reset tensorflow to remove our old a, b, etc..\n",
        "tf.reset_default_graph()\n",
        "\n",
        "# THIS TIME USE A PLACEHOLDER!\n",
        "#\n",
        "# The data to fit to is provided as a placeholder.\n",
        "# We need to tell it what type of data we will provide..\n",
        "t_x_n = tf.placeholder(dtype=tf.float64, name='X')\n",
        "\n",
        "# EVERYTHING ELSE IS AS IT WAS BEFORE..\n",
        "\n",
        "# Note: mu and sigma are now *variables* not constants!\n",
        "# We need to specify their data type and initial value.. \n",
        "t_mu = tf.Variable(mu_initial_guess, \n",
        "                   dtype=tf.float64, \n",
        "                   name=\"mu\")\n",
        "t_sigma = tf.Variable(sigma_initial_guess, \n",
        "                      dtype=tf.float64, \n",
        "                      name=\"sigma\")\n",
        "\n",
        "# Note: this step is important - don't use t_sigma directly!! \n",
        "t_sigma_2 = t_sigma ** 2.0\n",
        "\n",
        "# Calculate log p(X) terms..\n",
        "\n",
        "t_x_minus_mu_2 = (t_x_n - t_mu) ** 2.0\n",
        "t_denom = 2.0 * t_sigma_2\n",
        "t_sigma_term = - 0.5 * tf.log(2.0 * np.pi * t_sigma_2)\n",
        "\n",
        "t_log_P_terms = t_sigma_term - (t_x_minus_mu_2 / t_denom)\n",
        "\n",
        "# The sum is performed by a reduction in tensorflow \n",
        "# (since a vector goes in and a scalar comes out)\n",
        "# but this is effectively the same as np.sum(...)\n",
        "t_log_P = tf.reduce_sum(t_log_P_terms)"
      ],
      "execution_count": 0,
      "outputs": []
    },
    {
      "metadata": {
        "id": "ltdJmovgqru1",
        "colab_type": "code",
        "outputId": "b3524b5c-76ae-4a6e-c4d3-9e6095a68a74",
        "colab": {
          "base_uri": "https://localhost:8080/",
          "height": 309
        }
      },
      "cell_type": "code",
      "source": [
        "# Create a gradient descent optimiser that uses a\n",
        "# certain step size (learning_rate)..\n",
        "optimiser = tf.train.GradientDescentOptimizer(learning_rate=0.05)\n",
        "\n",
        "# We want to maximise log p(X) therefore we \n",
        "# need to minimise - log p(X)\n",
        "t_objective = - t_log_P\n",
        "\n",
        "# We want to optimise wrt mu and sigma\n",
        "vars_to_optimise = [t_mu, t_sigma]\n",
        "\n",
        "minimize_operation = optimiser.minimize(t_objective,\n",
        "                                       var_list=vars_to_optimise)\n",
        "\n",
        "# Number of iterations to perform\n",
        "num_iterations = 50\n",
        "\n",
        "with tf.Session() as session:\n",
        "    # IMPORTANT! (see above..)\n",
        "    session.run(tf.global_variables_initializer())\n",
        "    \n",
        "    # Run a number of iterations of gradient descent..\n",
        "    for iteration in range(num_iterations):\n",
        "        # At each iteration evaluate the minimize_operation\n",
        "        # to perform the gradient descent step and also\n",
        "        # keep track of the current value..\n",
        "        #\n",
        "        # NEED TO ADD THE FEED DICTIONARY OTHERWISE WE\n",
        "        # DON'T KNOW WHAT VALUE TO USE FOR t_x_n..\n",
        "        #\n",
        "        step, cost = session.run([minimize_operation, t_log_P],\n",
        "                                 feed_dict={ t_x_n : x_n })\n",
        "        \n",
        "        # Print out the value of log P every 10 iterations..\n",
        "        if ((iteration + 1) % 10 == 0):\n",
        "            print('iter %4d, log P(X) = %0.3f' % \n",
        "                  (iteration + 1, cost))\n",
        "    \n",
        "    # Get the final results of the optimisation..\n",
        "    mu_optimised = session.run(t_mu)\n",
        "    sigma_optimised = session.run(t_sigma)\n",
        "    \n",
        "print('\\nAnalytic estimates:')\n",
        "print('Estimated mu = ', np.mean(x_n))\n",
        "print('Estimated std = ', np.std(x_n))\n",
        "\n",
        "print('\\nGround truth values:')\n",
        "print('True mu = ', mu_true)\n",
        "print('True sigma = ', sigma_true)"
      ],
      "execution_count": 0,
      "outputs": [
        {
          "output_type": "stream",
          "text": [
            "WARNING:tensorflow:From /usr/local/lib/python3.6/dist-packages/tensorflow/python/ops/math_ops.py:3066: to_int32 (from tensorflow.python.ops.math_ops) is deprecated and will be removed in a future version.\n",
            "Instructions for updating:\n",
            "Use tf.cast instead.\n",
            "iter   10, log P(X) = -48.573\n",
            "iter   20, log P(X) = -41.651\n",
            "iter   30, log P(X) = -41.329\n",
            "iter   40, log P(X) = -41.329\n",
            "iter   50, log P(X) = -41.329\n",
            "\n",
            "Analytic estimates:\n",
            "Estimated mu =  2.3381914141804763\n",
            "Estimated std =  1.9107906930544705\n",
            "\n",
            "Ground truth values:\n",
            "True mu =  2.5\n",
            "True sigma =  1.5\n"
          ],
          "name": "stdout"
        }
      ]
    },
    {
      "metadata": {
        "id": "RT4qNlxsq4wh",
        "colab_type": "text"
      },
      "cell_type": "markdown",
      "source": [
        "\n",
        "We can now even make this a function and call it with lots of different data.."
      ]
    },
    {
      "metadata": {
        "id": "vu9hNFrurEdf",
        "colab_type": "code",
        "colab": {}
      },
      "cell_type": "code",
      "source": [
        "def find_parameters_using_tensorflow(x_input, \n",
        "                                     learning_rate=0.05):\n",
        "    # Create a gradient descent optimiser that uses a\n",
        "    # certain step size (learning_rate)..\n",
        "    optimiser = tf.train.GradientDescentOptimizer(\n",
        "        learning_rate=learning_rate)\n",
        "\n",
        "    # We want to maximise log p(X) therefore we \n",
        "    # need to minimise - log p(X)\n",
        "    t_objective = - t_log_P\n",
        "\n",
        "    # We want to optimise wrt mu and sigma\n",
        "    vars_to_optimise = [t_mu, t_sigma]\n",
        "\n",
        "    minimize_operation = optimiser.minimize(t_objective,\n",
        "                                           var_list=vars_to_optimise)\n",
        "\n",
        "    # Number of iterations to perform\n",
        "    num_iterations = 50\n",
        "\n",
        "    with tf.Session() as session:\n",
        "        # IMPORTANT! (see above..)\n",
        "        session.run(tf.global_variables_initializer())\n",
        "\n",
        "        # Run a number of iterations of gradient descent..\n",
        "        for iteration in range(num_iterations):\n",
        "            # At each iteration evaluate the minimize_operation\n",
        "            # to perform the gradient descent step and also\n",
        "            # keep track of the current value..\n",
        "            #\n",
        "            # PASS THE ARGUMENT TO THE FUNCTION INTO THE FEED\n",
        "            # DICTIONARY..\n",
        "            #\n",
        "            step, cost = session.run([minimize_operation, t_log_P],\n",
        "                                     feed_dict={ t_x_n : x_input })\n",
        "\n",
        "            # Print out the value of log P every 10 iterations..\n",
        "            if ((iteration + 1) % 10 == 0):\n",
        "                print('iter %4d, log P(X) = %0.3f' % \n",
        "                      (iteration + 1, cost))\n",
        "\n",
        "        # Get the final results of the optimisation..\n",
        "        mu_optimised = session.run(t_mu)\n",
        "        sigma_optimised = session.run(t_sigma)\n",
        "\n",
        "    return mu_optimised, sigma_optimised"
      ],
      "execution_count": 0,
      "outputs": []
    },
    {
      "metadata": {
        "id": "biiG8UWerE0w",
        "colab_type": "code",
        "outputId": "17c6bd12-b632-4182-d163-f99af01bd3c8",
        "colab": {
          "base_uri": "https://localhost:8080/",
          "height": 289
        }
      },
      "cell_type": "code",
      "source": [
        "# Let's try with a larger N\n",
        "\n",
        "N_bigger = 1000\n",
        "\n",
        "x_bigger = np.random.normal(mu_true, sigma_true, N_bigger)\n",
        "\n",
        "new_mu, new_sigma = find_parameters_using_tensorflow(x_bigger, \n",
        "                                                     learning_rate=0.001)\n",
        "\n",
        "print('Tensorflow estimates:')\n",
        "print('Tensorflow mu = ', new_mu)\n",
        "print('Tensorflow sigma = ', new_sigma)\n",
        "\n",
        "print('\\nAnalytic estimates:')\n",
        "print('Estimated mu = ', np.mean(x_bigger))\n",
        "print('Estimated std = ', np.std(x_bigger))\n",
        "\n",
        "print('\\nGround truth values:')\n",
        "print('True mu = ', mu_true)\n",
        "print('True sigma = ', sigma_true)"
      ],
      "execution_count": 0,
      "outputs": [
        {
          "output_type": "stream",
          "text": [
            "iter   10, log P(X) = -2080.140\n",
            "iter   20, log P(X) = -1823.902\n",
            "iter   30, log P(X) = -1823.902\n",
            "iter   40, log P(X) = -1823.902\n",
            "iter   50, log P(X) = -1823.902\n",
            "Tensorflow estimates:\n",
            "Tensorflow mu =  2.511752229254587\n",
            "Tensorflow sigma =  1.4992471874463602\n",
            "\n",
            "Analytic estimates:\n",
            "Estimated mu =  2.5117522292545864\n",
            "Estimated std =  1.4992471874463602\n",
            "\n",
            "Ground truth values:\n",
            "True mu =  2.5\n",
            "True sigma =  1.5\n"
          ],
          "name": "stdout"
        }
      ]
    },
    {
      "metadata": {
        "id": "LzSja6imrJCz",
        "colab_type": "text"
      },
      "cell_type": "markdown",
      "source": [
        "\n",
        "All sorts of more advanced topics\n",
        "Visualise parts of computation (e.g. Tensorboard)\n",
        "Reusable components (e.g. modules for neural networks / classifiers / etc..)\n",
        "Run computations on the GPU instead of the CPU (often faster)\n",
        "Easy to scale; can distribute computations over an entire cluster!"
      ]
    }
  ]
}