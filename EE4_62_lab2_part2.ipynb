{
  "nbformat": 4,
  "nbformat_minor": 0,
  "metadata": {
    "colab": {
      "name": "EE4_62_lab2_part2.ipynb",
      "version": "0.3.2",
      "provenance": [],
      "toc_visible": true,
      "include_colab_link": true
    },
    "kernelspec": {
      "name": "python3",
      "display_name": "Python 3"
    },
    "accelerator": "GPU"
  },
  "cells": [
    {
      "cell_type": "markdown",
      "metadata": {
        "id": "view-in-github",
        "colab_type": "text"
      },
      "source": [
        "<a href=\"https://colab.research.google.com/github/luxizh/EE62_Select_topic_for_Computer_Vision_Colab/blob/master/EE4_62_lab2_part2.ipynb\" target=\"_parent\"><img src=\"https://colab.research.google.com/assets/colab-badge.svg\" alt=\"Open In Colab\"/></a>"
      ]
    },
    {
      "metadata": {
        "colab_type": "text",
        "id": "S-h9hbM6ACmg"
      },
      "cell_type": "markdown",
      "source": [
        "# Convolutional Neural Network for multi-class classification\n",
        "###LeNet\n",
        "\n",
        "\n"
      ]
    },
    {
      "metadata": {
        "colab_type": "text",
        "id": "v5_r66RmACmh"
      },
      "cell_type": "markdown",
      "source": [
        "## Introduction\n",
        "\n",
        "This tutorial demonstrates the basic workflow of using TensorFlow with a simple CNN model. After loading the  MNIST data-set with images of hand-written digits, we define and optimize a simple mathematical model in TensorFlow. The results are then plotted and discussed.\n",
        "\n",
        "You should be familiar with basic linear algebra, Python and the Jupyter Notebook editor. It also helps if you have a basic understanding of Machine Learning and classification.\n"
      ]
    },
    {
      "metadata": {
        "colab_type": "text",
        "id": "_YnXathVACmj"
      },
      "cell_type": "markdown",
      "source": [
        "## Imports"
      ]
    },
    {
      "metadata": {
        "colab_type": "code",
        "id": "2foV5zPJACmk",
        "colab": {}
      },
      "cell_type": "code",
      "source": [
        "%matplotlib inline\n",
        "import matplotlib.pyplot as plt\n",
        "import tensorflow as tf\n",
        "import numpy as np\n",
        "import pickle"
      ],
      "execution_count": 0,
      "outputs": []
    },
    {
      "metadata": {
        "colab_type": "code",
        "id": "gpC54IwXACmp",
        "outputId": "692dcc9b-be0a-445b-fcf4-9ba9247da23d",
        "colab": {
          "base_uri": "https://localhost:8080/",
          "height": 476
        }
      },
      "cell_type": "code",
      "source": [
        "tf.__version__\n",
        "from tensorflow.python.client import device_lib\n",
        "device_lib.list_local_devices()"
      ],
      "execution_count": 0,
      "outputs": [
        {
          "output_type": "execute_result",
          "data": {
            "text/plain": [
              "[name: \"/device:CPU:0\"\n",
              " device_type: \"CPU\"\n",
              " memory_limit: 268435456\n",
              " locality {\n",
              " }\n",
              " incarnation: 8910024601308533499, name: \"/device:XLA_CPU:0\"\n",
              " device_type: \"XLA_CPU\"\n",
              " memory_limit: 17179869184\n",
              " locality {\n",
              " }\n",
              " incarnation: 10221992503949717107\n",
              " physical_device_desc: \"device: XLA_CPU device\", name: \"/device:XLA_GPU:0\"\n",
              " device_type: \"XLA_GPU\"\n",
              " memory_limit: 17179869184\n",
              " locality {\n",
              " }\n",
              " incarnation: 6125831510905624014\n",
              " physical_device_desc: \"device: XLA_GPU device\", name: \"/device:GPU:0\"\n",
              " device_type: \"GPU\"\n",
              " memory_limit: 11276946637\n",
              " locality {\n",
              "   bus_id: 1\n",
              "   links {\n",
              "   }\n",
              " }\n",
              " incarnation: 2036423188201080790\n",
              " physical_device_desc: \"device: 0, name: Tesla K80, pci bus id: 0000:00:04.0, compute capability: 3.7\"]"
            ]
          },
          "metadata": {
            "tags": []
          },
          "execution_count": 211
        }
      ]
    },
    {
      "metadata": {
        "id": "hTWSv_K4PIlD",
        "colab_type": "code",
        "colab": {}
      },
      "cell_type": "code",
      "source": [
        "\n",
        "filename = 'test_images0.data'\n",
        "f = open(filename, 'rb')\n",
        "test_images0 = pickle.load(f)\n",
        "f.close()\n",
        "filename = 'test_label0.data'\n",
        "f = open(filename, 'rb')\n",
        "test_label0 = pickle.load(f)\n",
        "f.close()\n",
        "\n",
        "filename = 'test_images1.data'\n",
        "f = open(filename, 'rb')\n",
        "test_images1 = pickle.load(f)\n",
        "f.close()\n",
        "filename = 'test_label1.data'\n",
        "f = open(filename, 'rb')\n",
        "test_label1 = pickle.load(f)\n",
        "f.close()\n",
        "\n",
        "filename = 'test_images2.data'\n",
        "f = open(filename, 'rb')\n",
        "test_images2 = pickle.load(f)\n",
        "f.close()\n",
        "filename = 'test_label2.data'\n",
        "f = open(filename, 'rb')\n",
        "test_label2 = pickle.load(f)\n",
        "f.close()\n",
        "\n",
        "filename = 'test_images3.data'\n",
        "f = open(filename, 'rb')\n",
        "test_images3 = pickle.load(f)\n",
        "f.close()\n",
        "filename = 'test_label3.data'\n",
        "f = open(filename, 'rb')\n",
        "test_label3 = pickle.load(f)\n",
        "f.close()\n",
        "\n",
        "filename = 'test_images4.data'\n",
        "f = open(filename, 'rb')\n",
        "test_images4 = pickle.load(f)\n",
        "f.close()\n",
        "filename = 'test_label4.data'\n",
        "f = open(filename, 'rb')\n",
        "test_label4 = pickle.load(f)\n",
        "f.close()\n",
        "\n",
        "filename = 'test_images5.data'\n",
        "f = open(filename, 'rb')\n",
        "test_images5 = pickle.load(f)\n",
        "f.close()\n",
        "filename = 'test_label5.data'\n",
        "f = open(filename, 'rb')\n",
        "test_label5 = pickle.load(f)\n",
        "f.close()"
      ],
      "execution_count": 0,
      "outputs": []
    },
    {
      "metadata": {
        "id": "SmV-GUQHU0DG",
        "colab_type": "code",
        "outputId": "e5f0eb1e-0cd8-4145-c84c-f15ad64e2892",
        "colab": {
          "base_uri": "https://localhost:8080/",
          "height": 34
        }
      },
      "cell_type": "code",
      "source": [
        "print(test_images5.shape)\n",
        "#test_images=np.concatenate((test_images,test_images))\n",
        "#print(test_images.shape)\n",
        "#test_label5np.where"
      ],
      "execution_count": 0,
      "outputs": [
        {
          "output_type": "stream",
          "text": [
            "(10000, 32, 32, 1)\n"
          ],
          "name": "stdout"
        }
      ]
    },
    {
      "metadata": {
        "colab_type": "text",
        "id": "sjjnFsniACmt"
      },
      "cell_type": "markdown",
      "source": [
        "## Load Data"
      ]
    },
    {
      "metadata": {
        "colab_type": "text",
        "id": "KlzSZJSZACmu"
      },
      "cell_type": "markdown",
      "source": [
        "The MNIST data-set is about 12 MB and will be downloaded automatically if it is not located in the given path."
      ]
    },
    {
      "metadata": {
        "colab_type": "code",
        "id": "0sL7pHjXACmu",
        "outputId": "ad67812e-d17e-4676-b4ff-6a33be19d627",
        "colab": {
          "base_uri": "https://localhost:8080/",
          "height": 221
        }
      },
      "cell_type": "code",
      "source": [
        "from tensorflow.examples.tutorials.mnist import input_data\n",
        "from sklearn.utils import shuffle\n",
        "\n",
        "mnist = input_data.read_data_sets(\"MNIST_data/\", reshape=False)\n",
        "'''\n",
        "X_train, y_train           = mnist.train.images, mnist.train.labels\n",
        "X_train, y_train = shuffle(X_train, y_train)\n",
        "\n",
        "#X_train, y_train = X_train[0:5000], y_train[0:5000]\n",
        "\n",
        "#from here\n",
        "real_idx=[]\n",
        "for real_label in range(10):\n",
        "    real_idx_i=np.where(y_train==real_label)\n",
        "    #print(type(real_idx_i))\n",
        "    #print(real_idx_i)\n",
        "    real_idx_i=list(real_idx_i[0])\n",
        "    #print(real_idx_i)\n",
        "    real_idx=real_idx+real_idx_i[0:500]\n",
        "#real_idx=tuple(real_idx)\n",
        "X_train=X_train[real_idx]  \n",
        "y_train=y_train[real_idx] \n",
        "#to there comment\n",
        "\n",
        "X_train      = np.pad(X_train, ((0,0),(2,2),(2,2),(0,0)), 'constant')\n",
        "'''\n",
        "\n",
        "#from here\n",
        "X_train = np.concatenate((test_images0,test_images1,test_images2,test_images3,test_images4,test_images5))\n",
        "y_train = np.concatenate((test_label0,test_label1,test_label2,test_label3,test_label4,test_label5))\n",
        "print(X_train.shape)\n",
        "print(\"Training Set:   {} samples\".format(len(X_train)))\n",
        "X_train, y_train = shuffle(X_train, y_train)\n",
        "X_validation, y_validation=X_train[55000:57500], y_train[55000:57500]\n",
        "X_train, y_train=X_train[0:55000], y_train[0:55000]\n",
        "#to there comment\n",
        "\n",
        "\n",
        "#idx5=[]\n",
        "#for idx in range(10):\n",
        "#    idx5=idx5+list(range(idx*1000,idx*1000+500))\n",
        "#X_train = np.concatenate((test_images0,test_images1,test_images2,test_images3,test_images4,test_images5[idx5]))\n",
        "#y_train = np.concatenate((test_label0,test_label1,test_label2,test_label3,test_label4,test_label5[idx5]))\n",
        "X_validation_real, y_validation_real = mnist.validation.images, mnist.validation.labels\n",
        "X_validation_real, y_validation_real = shuffle(X_validation_real, y_validation_real)\n",
        "X_validation_real = np.pad(X_validation_real, ((0,0),(2,2),(2,2),(0,0)), 'constant')\n",
        "X_validation_real, y_validation_real = X_validation_real[0:2500], y_validation_real[0:2500]\n",
        "X_validation = np.concatenate((X_validation,X_validation_real))\n",
        "y_validation = np.concatenate((y_validation,y_validation_real))\n",
        "X_test, y_test             = mnist.test.images, mnist.test.labels\n",
        "X_test       = np.pad(X_test, ((0,0),(2,2),(2,2),(0,0)), 'constant')\n",
        "\n",
        "assert(len(X_train) == len(y_train))\n",
        "assert(len(X_validation) == len(y_validation))\n",
        "assert(len(X_test) == len(y_test))\n",
        "\n",
        "print()\n",
        "print(\"Image Shape: {}\".format(X_train[0].shape))\n",
        "print()\n",
        "print(\"Training Set:   {} samples\".format(len(X_train)))\n",
        "print(\"Validation Set: {} samples\".format(len(X_validation)))\n",
        "print(\"Test Set:       {} samples\".format(len(X_test)))"
      ],
      "execution_count": 0,
      "outputs": [
        {
          "output_type": "stream",
          "text": [
            "Extracting MNIST_data/train-images-idx3-ubyte.gz\n",
            "Extracting MNIST_data/train-labels-idx1-ubyte.gz\n",
            "Extracting MNIST_data/t10k-images-idx3-ubyte.gz\n",
            "Extracting MNIST_data/t10k-labels-idx1-ubyte.gz\n",
            "(60000, 32, 32, 1)\n",
            "Training Set:   60000 samples\n",
            "\n",
            "Image Shape: (32, 32, 1)\n",
            "\n",
            "Training Set:   55000 samples\n",
            "Validation Set: 5000 samples\n",
            "Test Set:       10000 samples\n"
          ],
          "name": "stdout"
        }
      ]
    },
    {
      "metadata": {
        "colab_type": "text",
        "id": "C0CXStYuACmx"
      },
      "cell_type": "markdown",
      "source": [
        "The MNIST data-set has now been loaded and consists of 70.000 images and class-numbers for the images. The data-set is split into 3 mutually exclusive sub-sets. We will only use the training and test-sets in this tutorial.\n",
        "\n",
        "\n",
        "The MNIST data that TensorFlow pre-loads comes as 28x28x1 images.\n",
        "\n",
        "However, the LeNet architecture only accepts 32x32xC images, where C is the number of color channels.\n",
        "\n",
        "In order to reformat the MNIST data into a shape that LeNet will accept, we pad the data with two rows of zeros on the top and bottom, and two columns of zeros on the left and right (28+2+2 = 32).\n",
        "\n",
        "You do not need to modify this section."
      ]
    },
    {
      "metadata": {
        "colab_type": "code",
        "id": "0C-6GwB8Ob6q",
        "outputId": "823448f8-3771-4d53-ae89-6e468f3b12b6",
        "colab": {
          "base_uri": "https://localhost:8080/",
          "height": 54
        }
      },
      "cell_type": "code",
      "source": [
        "'''\n",
        "import numpy as np\n",
        "\n",
        "\n",
        "# Pad images with 0s\n",
        "X_train      = np.pad(X_train, ((0,0),(2,2),(2,2),(0,0)), 'constant')\n",
        "X_validation = np.pad(X_validation, ((0,0),(2,2),(2,2),(0,0)), 'constant')\n",
        "X_test       = np.pad(X_test, ((0,0),(2,2),(2,2),(0,0)), 'constant')\n",
        "    \n",
        "print(\"Updated Image Shape: {}\".format(X_train[0].shape))\n",
        "'''"
      ],
      "execution_count": 0,
      "outputs": [
        {
          "output_type": "execute_result",
          "data": {
            "text/plain": [
              "'\\nimport numpy as np\\n\\n\\n# Pad images with 0s\\nX_train      = np.pad(X_train, ((0,0),(2,2),(2,2),(0,0)), \\'constant\\')\\nX_validation = np.pad(X_validation, ((0,0),(2,2),(2,2),(0,0)), \\'constant\\')\\nX_test       = np.pad(X_test, ((0,0),(2,2),(2,2),(0,0)), \\'constant\\')\\n    \\nprint(\"Updated Image Shape: {}\".format(X_train[0].shape))\\n'"
            ]
          },
          "metadata": {
            "tags": []
          },
          "execution_count": 215
        }
      ]
    },
    {
      "metadata": {
        "colab_type": "text",
        "id": "zwvQNNSgACm0"
      },
      "cell_type": "markdown",
      "source": [
        "#Visualize the data \n",
        "View a sample from the dataset.\n",
        "\n",
        "You do not need to modify this section.\n"
      ]
    },
    {
      "metadata": {
        "colab_type": "code",
        "id": "yPVzo-NEGO6z",
        "outputId": "a66cb311-7a5d-440e-99a4-3b0bcd92d6e9",
        "colab": {
          "base_uri": "https://localhost:8080/",
          "height": 176
        }
      },
      "cell_type": "code",
      "source": [
        "import pdb\n",
        "import random\n",
        "import numpy as np\n",
        "import matplotlib.pyplot as plt\n",
        "%matplotlib inline\n",
        "\n",
        "index = random.randint(0, len(X_train))\n",
        "image = X_train[index].squeeze()\n",
        "\n",
        "plt.figure(figsize=(2,2))\n",
        "plt.imshow(image)\n",
        "print(\"Label of the image is:%d\"%y_train[index])"
      ],
      "execution_count": 0,
      "outputs": [
        {
          "output_type": "stream",
          "text": [
            "Label of the image is:0\n"
          ],
          "name": "stdout"
        },
        {
          "output_type": "display_data",
          "data": {
            "image/png": "[encoded data removed]",
            "text/plain": [
              "<Figure size 144x144 with 1 Axes>"
            ]
          },
          "metadata": {
            "tags": []
          }
        }
      ]
    },
    {
      "metadata": {
        "colab_type": "text",
        "id": "KadIMQSAGaRs"
      },
      "cell_type": "markdown",
      "source": [
        "#Preprocess the data \n",
        "Shuffle the training data."
      ]
    },
    {
      "metadata": {
        "colab_type": "code",
        "id": "nwvRPdy7Gfsk",
        "colab": {}
      },
      "cell_type": "code",
      "source": [
        "\n",
        "\n",
        "X_train, y_train = shuffle(X_train, y_train)\n",
        "import tensorflow as tf\n",
        "\n",
        "EPOCHS = 30\n",
        "BATCH_SIZE = 128"
      ],
      "execution_count": 0,
      "outputs": []
    },
    {
      "metadata": {
        "colab_type": "text",
        "id": "1-0Nhp32Gjg5"
      },
      "cell_type": "markdown",
      "source": [
        "#Setup TensorFlow\n",
        "The EPOCH and BATCH_SIZE values affect the training speed and model accuracy.\n",
        "\n",
        " \n"
      ]
    },
    {
      "metadata": {
        "colab_type": "code",
        "id": "qmzLjEf-GoXR",
        "colab": {}
      },
      "cell_type": "code",
      "source": [
        ""
      ],
      "execution_count": 0,
      "outputs": []
    },
    {
      "metadata": {
        "colab_type": "text",
        "id": "vwXqrFbFHpoA"
      },
      "cell_type": "markdown",
      "source": [
        "#Input\n",
        "The LeNet architecture accepts a 32x32xC image as input, where C is the number of color channels. Since MNIST images are grayscale, C is 1 in this case.\n",
        "\n",
        "#Architecture\n",
        "##Layer 1: Convolutional.\n",
        "####The output shape should be 28x28x6.\n",
        "\n",
        "####Activation. Your choice of activation function.\n",
        "\n",
        "####Pooling. The output shape should be 14x14x6.\n",
        "\n",
        "#Layer 2: Convolutional. \n",
        "####The output shape should be 10x10x16.\n",
        "\n",
        "####Activation. Your choice of activation function.\n",
        "\n",
        "####Pooling. The output shape should be 5x5x16.\n",
        "\n",
        "####Flatten. Flatten the output shape of the final pooling layer such that it's 1D instead of 3D. The easiest way to do is by using tf.contrib.layers.flatten, which is already imported for you.\n",
        "\n",
        "#Layer 3: Fully Connected. \n",
        "####This should have 120 outputs.\n",
        "####Activation. Your choice of activation function.\n",
        "\n",
        "#Layer 4: Fully Connected. \n",
        "####This should have 84 outputs.\n",
        "\n",
        "####Activation. Your choice of activation function.\n",
        "\n",
        "#Layer 5: Fully Connected (Logits).\n",
        "####This should have 10 outputs.\n",
        "\n",
        "\n",
        "\n",
        "\n"
      ]
    },
    {
      "metadata": {
        "colab_type": "text",
        "id": "SsnwJVLAvlzY"
      },
      "cell_type": "markdown",
      "source": [
        "![alt text](https://cdn-images-1.medium.com/max/2200/1*1TI1aGBZ4dybR6__DI9dzA.png)"
      ]
    },
    {
      "metadata": {
        "colab_type": "code",
        "id": "p94ptW5DIxFw",
        "colab": {}
      },
      "cell_type": "code",
      "source": [
        "from tensorflow.contrib.layers import flatten\n",
        "\n",
        "def LeNet(x):    \n",
        "    # Hyperparameters\n",
        "    mu = 0\n",
        "    sigma = 0.1\n",
        " \n",
        "    \n",
        "    # Layer 1: Convolutional. Input = 32x32x1. Output = 28x28x6.\n",
        "    conv1_w = tf.Variable(tf.truncated_normal(shape = [5,5,1,6], mean = mu, stddev = sigma))\n",
        "    conv1_b = tf.Variable(tf.zeros(6))\n",
        "    conv1 = tf.nn.conv2d(x, conv1_w, strides = [1,1,1,1], padding = 'VALID') + conv1_b \n",
        "    \n",
        "    # Activation.\n",
        "    conv1 = tf.nn.relu(conv1)\n",
        "\n",
        "    # Pooling. Input = 28x28x6. Output = 14x14x6.\n",
        "    pool_1 = tf.nn.max_pool(conv1,ksize = [1,2,2,1], strides = [1,2,2,1], padding = 'VALID')\n",
        "    \n",
        "    # Layer 2: Convolutional. Output = 10x10x16.\n",
        "    conv2_w = tf.Variable(tf.truncated_normal(shape = [5,5,6,16], mean = mu, stddev = sigma))\n",
        "    conv2_b = tf.Variable(tf.zeros(16))\n",
        "    conv2 = tf.nn.conv2d(pool_1, conv2_w, strides = [1,1,1,1], padding = 'VALID') + conv2_b\n",
        "    \n",
        "    # Activation.\n",
        "    conv2 = tf.nn.relu(conv2)\n",
        "\n",
        "    # Pooling. Input = 10x10x16. Output = 5x5x16.\n",
        "    pool_2 = tf.nn.max_pool(conv2, ksize = [1,2,2,1], strides = [1,2,2,1], padding = 'VALID') \n",
        "    \n",
        "    # Flatten. Input = 5x5x16. Output = 400.\n",
        "    fc1 = flatten(pool_2)\n",
        "    \n",
        "    # Layer 3: Fully Connected. Input = 400. Output = 120.\n",
        "    fc1_w = tf.Variable(tf.truncated_normal(shape = (400,120), mean = mu, stddev = sigma))\n",
        "    fc1_b = tf.Variable(tf.zeros(120))\n",
        "    fc1 = tf.matmul(fc1,fc1_w) + fc1_b\n",
        "    \n",
        "    # Activation.\n",
        "    fc1 = tf.nn.relu(fc1)\n",
        "\n",
        "    # Layer 4: Fully Connected. Input = 120. Output = 84.\n",
        "    fc2_w = tf.Variable(tf.truncated_normal(shape = (120,84), mean = mu, stddev = sigma))\n",
        "    fc2_b = tf.Variable(tf.zeros(84))\n",
        "    fc2 = tf.matmul(fc1,fc2_w) + fc2_b\n",
        "    \n",
        "    # Activation.\n",
        "    fc2 = tf.nn.relu(fc2)\n",
        "    \n",
        "    # Layer 5: Fully Connected. Input = 84. Output = 10.\n",
        "    fc3_w = tf.Variable(tf.truncated_normal(shape = (84,10), mean = mu , stddev = sigma))\n",
        "    fc3_b = tf.Variable(tf.zeros(10))\n",
        "    logits = tf.matmul(fc2, fc3_w) + fc3_b\n",
        "    return logits "
      ],
      "execution_count": 0,
      "outputs": []
    },
    {
      "metadata": {
        "colab_type": "text",
        "id": "PmBvw1GvJBEX"
      },
      "cell_type": "markdown",
      "source": [
        "#Features and Labels\n",
        "\n",
        "Train LeNet to classify MNIST data.\n",
        "\n",
        "x is a placeholder for a batch of input images. y is a placeholder for a batch of output labels."
      ]
    },
    {
      "metadata": {
        "colab_type": "code",
        "id": "ILVOzWz9JLkl",
        "colab": {}
      },
      "cell_type": "code",
      "source": [
        "x = tf.placeholder(tf.float32, (None, 32, 32, 1))\n",
        "y = tf.placeholder(tf.int32, (None))\n",
        "one_hot_y = tf.one_hot(y, 10)"
      ],
      "execution_count": 0,
      "outputs": []
    },
    {
      "metadata": {
        "colab_type": "text",
        "id": "uaPmXui-ACm2"
      },
      "cell_type": "markdown",
      "source": [
        " ### One-Hot Encoding\n",
        "\n",
        "The output-data is loaded as both integer class-numbers and so-called One-Hot encoded arrays. This means the class-numbers have been converted from a single integer to a vector whose length equals the number of possible classes. All elements of the vector are zero except for the $i$'th element which is 1 and means the class is $i$. For example, the One-Hot encoded labels for the first 5 images in the test-set are:"
      ]
    },
    {
      "metadata": {
        "colab_type": "text",
        "id": "pWNmsAnAJUPX"
      },
      "cell_type": "markdown",
      "source": [
        "#Training Pipeline\n",
        "Create a training pipeline that uses the model to classify MNIST data.\n",
        "\n",
        " "
      ]
    },
    {
      "metadata": {
        "colab_type": "code",
        "id": "6aa43FvOJarb",
        "colab": {}
      },
      "cell_type": "code",
      "source": [
        "rate = 0.005\n",
        "\n",
        "logits = LeNet(x)\n",
        "cross_entropy = tf.nn.softmax_cross_entropy_with_logits(labels=one_hot_y, logits=logits)  \n",
        "loss_operation = tf.reduce_mean(cross_entropy)\n",
        "#optimizer = tf.train.AdamOptimizer(learning_rate=rate)\n",
        "optimizer = tf.train.GradientDescentOptimizer(learning_rate=rate)\n",
        "training_operation = optimizer.minimize(loss_operation)"
      ],
      "execution_count": 0,
      "outputs": []
    },
    {
      "metadata": {
        "colab_type": "text",
        "id": "dr0JL3zUJm5e"
      },
      "cell_type": "markdown",
      "source": [
        "#Function to Evaluate Model Evaluation\n",
        "Evaluate how well the loss and accuracy of the model for a given dataset.\n",
        "\n",
        " \n"
      ]
    },
    {
      "metadata": {
        "colab_type": "code",
        "id": "yTHnk0FJJpEp",
        "colab": {}
      },
      "cell_type": "code",
      "source": [
        "predictions_operation = tf.argmax(tf.nn.softmax(logits), 1)\n",
        "correct_prediction = tf.equal(predictions_operation, tf.argmax(one_hot_y, 1))\n",
        "accuracy_operation = tf.reduce_mean(tf.cast(correct_prediction, tf.float32))\n",
        "saver = tf.train.Saver()\n",
        "\n",
        "def evaluate(X_data, y_data):\n",
        "    num_examples = len(X_data)\n",
        "    total_accuracy = 0\n",
        "    sess = tf.get_default_session()\n",
        "    all_predictions = []\n",
        "    for offset in range(0, num_examples, BATCH_SIZE):\n",
        "        batch_x, batch_y = X_data[offset:offset+BATCH_SIZE], y_data[offset:offset+BATCH_SIZE]\n",
        "        accuracy, predictions = sess.run([accuracy_operation, predictions_operation], feed_dict={x: batch_x, y: batch_y})\n",
        "        \n",
        "        all_predictions = np.hstack((all_predictions, predictions))\n",
        "        total_accuracy += (accuracy * len(batch_x))\n",
        "    all_predictions = np.array(all_predictions)\n",
        "    return total_accuracy / num_examples, all_predictions"
      ],
      "execution_count": 0,
      "outputs": []
    },
    {
      "metadata": {
        "colab_type": "text",
        "id": "sxGln04oJt8u"
      },
      "cell_type": "markdown",
      "source": [
        "#Train the Model\n",
        "Run the training data through the training pipeline to train the model.\n",
        "\n",
        "Before each epoch, shuffle the training set.\n",
        "\n",
        "After each epoch, measure the loss and accuracy of the validation set.\n",
        "\n",
        "Save the model after training.\n",
        "\n",
        " "
      ]
    },
    {
      "metadata": {
        "colab_type": "code",
        "id": "7GT4aPh5ACm4",
        "outputId": "235621df-d784-462a-ff0c-3182c67af654",
        "colab": {
          "base_uri": "https://localhost:8080/",
          "height": 1598
        }
      },
      "cell_type": "code",
      "source": [
        "\n",
        "with tf.Session() as sess:\n",
        "    sess.run(tf.global_variables_initializer())\n",
        "    num_examples = len(X_train)\n",
        "    \n",
        "    print(\"Training...\")\n",
        "    print()\n",
        "    for i in range(EPOCHS):\n",
        "        X_train, y_train = shuffle(X_train, y_train)\n",
        "         \n",
        "        for offset in range(0, num_examples, BATCH_SIZE):\n",
        "            end = offset + BATCH_SIZE\n",
        "            batch_x, batch_y = X_train[offset:end], y_train[offset:end]\n",
        "            sess.run(training_operation, feed_dict={x: batch_x, y: batch_y})\n",
        "            \n",
        "        validation_accuracy, validation_predictions = evaluate(X_validation, y_validation)\n",
        "        print(\"EPOCH {} ...\".format(i+1))\n",
        "        print(\"Validation Accuracy = {:.3f}\".format(validation_accuracy))\n",
        "        print()\n",
        "        \n",
        "    saver.save(sess, './lenet')\n",
        "    print(\"Model saved\")"
      ],
      "execution_count": 0,
      "outputs": [
        {
          "output_type": "stream",
          "text": [
            "Training...\n",
            "\n",
            "EPOCH 1 ...\n",
            "Validation Accuracy = 0.629\n",
            "\n",
            "EPOCH 2 ...\n",
            "Validation Accuracy = 0.901\n",
            "\n",
            "EPOCH 3 ...\n",
            "Validation Accuracy = 0.933\n",
            "\n",
            "EPOCH 4 ...\n",
            "Validation Accuracy = 0.951\n",
            "\n",
            "EPOCH 5 ...\n",
            "Validation Accuracy = 0.958\n",
            "\n",
            "EPOCH 6 ...\n",
            "Validation Accuracy = 0.962\n",
            "\n",
            "EPOCH 7 ...\n",
            "Validation Accuracy = 0.970\n",
            "\n",
            "EPOCH 8 ...\n",
            "Validation Accuracy = 0.974\n",
            "\n",
            "EPOCH 9 ...\n",
            "Validation Accuracy = 0.977\n",
            "\n",
            "EPOCH 10 ...\n",
            "Validation Accuracy = 0.977\n",
            "\n",
            "EPOCH 11 ...\n",
            "Validation Accuracy = 0.979\n",
            "\n",
            "EPOCH 12 ...\n",
            "Validation Accuracy = 0.982\n",
            "\n",
            "EPOCH 13 ...\n",
            "Validation Accuracy = 0.981\n",
            "\n",
            "EPOCH 14 ...\n",
            "Validation Accuracy = 0.984\n",
            "\n",
            "EPOCH 15 ...\n",
            "Validation Accuracy = 0.983\n",
            "\n",
            "EPOCH 16 ...\n",
            "Validation Accuracy = 0.984\n",
            "\n",
            "EPOCH 17 ...\n",
            "Validation Accuracy = 0.983\n",
            "\n",
            "EPOCH 18 ...\n",
            "Validation Accuracy = 0.983\n",
            "\n",
            "EPOCH 19 ...\n",
            "Validation Accuracy = 0.984\n",
            "\n",
            "EPOCH 20 ...\n",
            "Validation Accuracy = 0.984\n",
            "\n",
            "EPOCH 21 ...\n",
            "Validation Accuracy = 0.987\n",
            "\n",
            "EPOCH 22 ...\n",
            "Validation Accuracy = 0.986\n",
            "\n",
            "EPOCH 23 ...\n",
            "Validation Accuracy = 0.988\n",
            "\n",
            "EPOCH 24 ...\n",
            "Validation Accuracy = 0.986\n",
            "\n",
            "EPOCH 25 ...\n",
            "Validation Accuracy = 0.987\n",
            "\n",
            "EPOCH 26 ...\n",
            "Validation Accuracy = 0.988\n",
            "\n",
            "EPOCH 27 ...\n",
            "Validation Accuracy = 0.987\n",
            "\n",
            "EPOCH 28 ...\n",
            "Validation Accuracy = 0.987\n",
            "\n",
            "EPOCH 29 ...\n",
            "Validation Accuracy = 0.987\n",
            "\n",
            "EPOCH 30 ...\n",
            "Validation Accuracy = 0.988\n",
            "\n",
            "Model saved\n"
          ],
          "name": "stdout"
        }
      ]
    },
    {
      "metadata": {
        "colab_type": "text",
        "id": "fcepyP5UACm8"
      },
      "cell_type": "markdown",
      "source": [
        "#Evaluate the Model\n",
        "Once you are completely satisfied with your model, evaluate the performance of the model on the test set.\n",
        "\n",
        "Be sure to only do this once!\n",
        "\n",
        "If you were to measure the performance of your trained model on the test set, then improve your model, and then measure the performance of your model on the test set again, that would invalidate your test results. You wouldn't get a true measure of how well your model would perform against real data.\n",
        "\n",
        " "
      ]
    },
    {
      "metadata": {
        "colab_type": "code",
        "id": "SCf3CSnJACm8",
        "outputId": "081dd1b6-0283-44c6-d1a0-b4430e02581d",
        "colab": {
          "base_uri": "https://localhost:8080/",
          "height": 68
        }
      },
      "cell_type": "code",
      "source": [
        "\n",
        "with tf.Session() as session:\n",
        "    saver.restore(session, tf.train.latest_checkpoint('.'))\n",
        "\n",
        "    test_accuracy, test_predictions = evaluate(X_test, y_test)\n",
        "    print(\"Test Accuracy = {:.6f}\".format(test_accuracy))\n",
        "    print(type(test_accuracy))\n"
      ],
      "execution_count": 0,
      "outputs": [
        {
          "output_type": "stream",
          "text": [
            "INFO:tensorflow:Restoring parameters from ./lenet\n",
            "Test Accuracy = 0.968300\n",
            "<class 'numpy.float64'>\n"
          ],
          "name": "stdout"
        }
      ]
    },
    {
      "metadata": {
        "id": "HCr-r9zKV6g_",
        "colab_type": "code",
        "colab": {}
      },
      "cell_type": "code",
      "source": [
        "portion=[]\n",
        "test_acc=[]\n",
        "test_accuracy=0.976"
      ],
      "execution_count": 0,
      "outputs": []
    },
    {
      "metadata": {
        "id": "_1Fn41y3WG6n",
        "colab_type": "code",
        "outputId": "899c58ab-ac3c-46b2-822c-389d532db036",
        "colab": {
          "base_uri": "https://localhost:8080/",
          "height": 34
        }
      },
      "cell_type": "code",
      "source": [
        "portion.append(0/6)\n",
        "test_acc.append(test_accuracy)\n",
        "print(portion,test_acc)"
      ],
      "execution_count": 0,
      "outputs": [
        {
          "output_type": "stream",
          "text": [
            "[1.0, 0.8333333333333334, 0.6666666666666666, 0.5, 0.3333333333333333, 0.16666666666666666, 0.0] [0.976, 0.979, 0.9796, 0.9758, 0.9715, 0.9653, 0.5692]\n"
          ],
          "name": "stdout"
        }
      ]
    },
    {
      "metadata": {
        "id": "HvHXRb1PZ6qp",
        "colab_type": "code",
        "colab": {}
      },
      "cell_type": "code",
      "source": [
        "test_acc_rt1=[]"
      ],
      "execution_count": 0,
      "outputs": []
    },
    {
      "metadata": {
        "id": "AbVbX66IZ-ci",
        "colab_type": "code",
        "outputId": "220bb588-4d9d-4d6d-ef8a-00f8dd639d10",
        "colab": {
          "base_uri": "https://localhost:8080/",
          "height": 34
        }
      },
      "cell_type": "code",
      "source": [
        "test_acc_rt1.append(test_accuracy)\n",
        "print(portion,test_acc_rt1)"
      ],
      "execution_count": 0,
      "outputs": [
        {
          "output_type": "stream",
          "text": [
            "[1.0, 0.8333333333333334, 0.6666666666666666, 0.5, 0.3333333333333333, 0.16666666666666666] [0.9364, 0.9364, 0.9442, 0.94, 0.9234]\n"
          ],
          "name": "stdout"
        }
      ]
    },
    {
      "metadata": {
        "id": "c0mfgSqSegvS",
        "colab_type": "code",
        "outputId": "046a356e-f77b-48d4-f0fb-22b2427fb756",
        "colab": {
          "base_uri": "https://localhost:8080/",
          "height": 34
        }
      },
      "cell_type": "code",
      "source": [
        "test_acc_rt1[3]=0.940000\n",
        "print(portion,test_acc_rt1)"
      ],
      "execution_count": 0,
      "outputs": [
        {
          "output_type": "stream",
          "text": [
            "[1.0, 0.8333333333333334, 0.6666666666666666, 0.5, 0.3333333333333333, 0.16666666666666666, 0.0] [0.9364, 0.9364, 0.9442, 0.94, 0.9234]\n"
          ],
          "name": "stdout"
        }
      ]
    },
    {
      "metadata": {
        "id": "JugbJfVWVQgu",
        "colab_type": "code",
        "colab": {}
      },
      "cell_type": "code",
      "source": [
        "test_num=[]\n",
        "acc1=[]\n",
        "acc2=[]\n",
        "current=1"
      ],
      "execution_count": 0,
      "outputs": []
    },
    {
      "metadata": {
        "id": "v05TVXewVZtv",
        "colab_type": "code",
        "outputId": "6b7a4674-18cc-44aa-9b87-b2f06998a711",
        "colab": {
          "base_uri": "https://localhost:8080/",
          "height": 34
        }
      },
      "cell_type": "code",
      "source": [
        "acc1.append(test_accuracy)\n",
        "test_num.append(current)\n",
        "current+=1\n",
        "print(test_num,acc1)"
      ],
      "execution_count": 0,
      "outputs": [
        {
          "output_type": "stream",
          "text": [
            "[1, 2, 3, 4, 5, 6, 7, 8, 9, 10] [0.9683, 0.9655, 0.9671, 0.9682, 0.9695, 0.9671, 0.9678, 0.9688, 0.9697, 0.968]\n"
          ],
          "name": "stdout"
        }
      ]
    },
    {
      "metadata": {
        "id": "uFdUcYIzVeo5",
        "colab_type": "code",
        "outputId": "efd67622-d002-4dca-ed76-bedffc80015d",
        "colab": {
          "base_uri": "https://localhost:8080/",
          "height": 34
        }
      },
      "cell_type": "code",
      "source": [
        "acc2.append(test_accuracy)\n",
        "print(acc2)"
      ],
      "execution_count": 0,
      "outputs": [
        {
          "output_type": "stream",
          "text": [
            "[0.9672, 0.9653, 0.9679, 0.9683]\n"
          ],
          "name": "stdout"
        }
      ]
    },
    {
      "metadata": {
        "id": "W-gOze3adUVy",
        "colab_type": "code",
        "colab": {}
      },
      "cell_type": "code",
      "source": [
        "filename = 'portion.data'\n",
        "f = open(filename, 'wb')\n",
        "pickle.dump(portion,f)\n",
        "f.close()\n",
        "filename = 'test_acc_rt5.data'\n",
        "f = open(filename, 'wb')\n",
        "pickle.dump(test_acc,f)\n",
        "f.close()\n",
        "filename = 'test_acc_rt1.data'\n",
        "f = open(filename, 'wb')\n",
        "pickle.dump(test_acc_rt1,f)\n",
        "f.close()"
      ],
      "execution_count": 0,
      "outputs": []
    },
    {
      "metadata": {
        "id": "ywvsGzEJN0w-",
        "colab_type": "code",
        "outputId": "40fe101f-d4eb-409d-9cfe-c8cdfe851167",
        "colab": {
          "base_uri": "https://localhost:8080/",
          "height": 231
        }
      },
      "cell_type": "code",
      "source": [
        "import pickle\n",
        "f = open('./test_images.data', 'rb')\n",
        "\n",
        "test_images = pickle.load(f)\n",
        "print(test_images.shape)\n",
        "f.close()\n",
        "f1 = open('./test_label.data', 'rb')\n",
        "\n",
        "test_label = pickle.load(f1)\n",
        "print(test_label.shape)\n",
        "f1.close()\n",
        "\n",
        "with tf.Session() as sess:\n",
        "\n",
        "    saver.restore(sess,tf.train.latest_checkpoint(\".\"))\n",
        "    \n",
        "    test_accuracy, test_predictions = evaluate(test_images, test_label)\n",
        "    #print(test_predictions)\n",
        "    #print(test_label[9020:9080])\n",
        "    print(\"Test Accuracy = {:.6f}\".format(test_accuracy))\n",
        "\n",
        "#here is the end"
      ],
      "execution_count": 0,
      "outputs": [
        {
          "output_type": "error",
          "ename": "FileNotFoundError",
          "evalue": "ignored",
          "traceback": [
            "\u001b[0;31m---------------------------------------------------------------------------\u001b[0m",
            "\u001b[0;31mFileNotFoundError\u001b[0m                         Traceback (most recent call last)",
            "\u001b[0;32m<ipython-input-52-028783736573>\u001b[0m in \u001b[0;36m<module>\u001b[0;34m()\u001b[0m\n\u001b[1;32m      1\u001b[0m \u001b[0;32mimport\u001b[0m \u001b[0mpickle\u001b[0m\u001b[0;34m\u001b[0m\u001b[0;34m\u001b[0m\u001b[0m\n\u001b[0;32m----> 2\u001b[0;31m \u001b[0mf\u001b[0m \u001b[0;34m=\u001b[0m \u001b[0mopen\u001b[0m\u001b[0;34m(\u001b[0m\u001b[0;34m'./test_images.data'\u001b[0m\u001b[0;34m,\u001b[0m \u001b[0;34m'rb'\u001b[0m\u001b[0;34m)\u001b[0m\u001b[0;34m\u001b[0m\u001b[0;34m\u001b[0m\u001b[0m\n\u001b[0m\u001b[1;32m      3\u001b[0m \u001b[0;34m\u001b[0m\u001b[0m\n\u001b[1;32m      4\u001b[0m \u001b[0mtest_images\u001b[0m \u001b[0;34m=\u001b[0m \u001b[0mpickle\u001b[0m\u001b[0;34m.\u001b[0m\u001b[0mload\u001b[0m\u001b[0;34m(\u001b[0m\u001b[0mf\u001b[0m\u001b[0;34m)\u001b[0m\u001b[0;34m\u001b[0m\u001b[0;34m\u001b[0m\u001b[0m\n\u001b[1;32m      5\u001b[0m \u001b[0mprint\u001b[0m\u001b[0;34m(\u001b[0m\u001b[0mtest_images\u001b[0m\u001b[0;34m.\u001b[0m\u001b[0mshape\u001b[0m\u001b[0;34m)\u001b[0m\u001b[0;34m\u001b[0m\u001b[0;34m\u001b[0m\u001b[0m\n",
            "\u001b[0;31mFileNotFoundError\u001b[0m: [Errno 2] No such file or directory: './test_images.data'"
          ]
        }
      ]
    },
    {
      "metadata": {
        "id": "F816gBBcx8mS",
        "colab_type": "code",
        "outputId": "0045367b-5865-48f3-a36e-a8c53aba6934",
        "colab": {
          "base_uri": "https://localhost:8080/",
          "height": 231
        }
      },
      "cell_type": "code",
      "source": [
        "import pickle\n",
        "acc_aver=[]\n",
        "pred_all=[]\n",
        "label_all=[]\n",
        "for j in range(6):\n",
        "    filename1 = 'test_images'+str(j)+'.data'\n",
        "    filename2 = 'test_label'+str(j)+'.data'\n",
        "    f = open(filename1, 'rb')\n",
        "    test_images = pickle.load(f)\n",
        "    f.close()\n",
        "    f = open(filename2, 'rb')\n",
        "    test_label = pickle.load(f)\n",
        "    f.close()\n",
        "    with tf.Session() as sess:\n",
        "        saver.restore(sess,tf.train.latest_checkpoint(\".\"))\n",
        "\n",
        "        test_accuracy, test_predictions = evaluate(test_images, test_label)\n",
        "        #print(test_predictions)\n",
        "        #print(test_label[9020:9080])\n",
        "        print(\"Test Accuracy = {:.6f}\".format(test_accuracy))\n",
        "        acc_aver.append(test_accuracy)\n",
        "        test_predictions=list(test_predictions)\n",
        "        pred_all=pred_all+test_predictions\n",
        "    test_label=list(test_label)\n",
        "    label_all=label_all+test_label\n",
        "print(np.mean(acc_aver))\n",
        "filename = 'label_all.data'\n",
        "f = open(filename, 'wb')\n",
        "pickle.dump(label_all,f)\n",
        "f.close()\n",
        "filename = 'pred_all.data'\n",
        "f = open(filename, 'wb')\n",
        "pickle.dump(pred_all,f)\n",
        "f.close()"
      ],
      "execution_count": 0,
      "outputs": [
        {
          "output_type": "error",
          "ename": "FileNotFoundError",
          "evalue": "ignored",
          "traceback": [
            "\u001b[0;31m---------------------------------------------------------------------------\u001b[0m",
            "\u001b[0;31mFileNotFoundError\u001b[0m                         Traceback (most recent call last)",
            "\u001b[0;32m<ipython-input-55-2d9b24f4c9fb>\u001b[0m in \u001b[0;36m<module>\u001b[0;34m()\u001b[0m\n\u001b[1;32m      6\u001b[0m     \u001b[0mfilename1\u001b[0m \u001b[0;34m=\u001b[0m \u001b[0;34m'test_images'\u001b[0m\u001b[0;34m+\u001b[0m\u001b[0mstr\u001b[0m\u001b[0;34m(\u001b[0m\u001b[0mj\u001b[0m\u001b[0;34m)\u001b[0m\u001b[0;34m+\u001b[0m\u001b[0;34m'.data'\u001b[0m\u001b[0;34m\u001b[0m\u001b[0;34m\u001b[0m\u001b[0m\n\u001b[1;32m      7\u001b[0m     \u001b[0mfilename2\u001b[0m \u001b[0;34m=\u001b[0m \u001b[0;34m'test_label'\u001b[0m\u001b[0;34m+\u001b[0m\u001b[0mstr\u001b[0m\u001b[0;34m(\u001b[0m\u001b[0mj\u001b[0m\u001b[0;34m)\u001b[0m\u001b[0;34m+\u001b[0m\u001b[0;34m'.data'\u001b[0m\u001b[0;34m\u001b[0m\u001b[0;34m\u001b[0m\u001b[0m\n\u001b[0;32m----> 8\u001b[0;31m     \u001b[0mf\u001b[0m \u001b[0;34m=\u001b[0m \u001b[0mopen\u001b[0m\u001b[0;34m(\u001b[0m\u001b[0mfilename1\u001b[0m\u001b[0;34m,\u001b[0m \u001b[0;34m'rb'\u001b[0m\u001b[0;34m)\u001b[0m\u001b[0;34m\u001b[0m\u001b[0;34m\u001b[0m\u001b[0m\n\u001b[0m\u001b[1;32m      9\u001b[0m     \u001b[0mtest_images\u001b[0m \u001b[0;34m=\u001b[0m \u001b[0mpickle\u001b[0m\u001b[0;34m.\u001b[0m\u001b[0mload\u001b[0m\u001b[0;34m(\u001b[0m\u001b[0mf\u001b[0m\u001b[0;34m)\u001b[0m\u001b[0;34m\u001b[0m\u001b[0;34m\u001b[0m\u001b[0m\n\u001b[1;32m     10\u001b[0m     \u001b[0mf\u001b[0m\u001b[0;34m.\u001b[0m\u001b[0mclose\u001b[0m\u001b[0;34m(\u001b[0m\u001b[0;34m)\u001b[0m\u001b[0;34m\u001b[0m\u001b[0;34m\u001b[0m\u001b[0m\n",
            "\u001b[0;31mFileNotFoundError\u001b[0m: [Errno 2] No such file or directory: 'test_images0.data'"
          ]
        }
      ]
    },
    {
      "metadata": {
        "id": "CHaAbugCDRBJ",
        "colab_type": "code",
        "outputId": "e1eb3e73-7877-4a05-e039-528dd04f6539",
        "colab": {
          "base_uri": "https://localhost:8080/",
          "height": 357
        }
      },
      "cell_type": "code",
      "source": [
        "for j in range(2,41,2):\n",
        "    print(j)"
      ],
      "execution_count": 0,
      "outputs": [
        {
          "output_type": "stream",
          "text": [
            "2\n",
            "4\n",
            "6\n",
            "8\n",
            "10\n",
            "12\n",
            "14\n",
            "16\n",
            "18\n",
            "20\n",
            "22\n",
            "24\n",
            "26\n",
            "28\n",
            "30\n",
            "32\n",
            "34\n",
            "36\n",
            "38\n",
            "40\n"
          ],
          "name": "stdout"
        }
      ]
    },
    {
      "metadata": {
        "id": "qDgSHGvxC1Xa",
        "colab_type": "code",
        "outputId": "8da31f1d-ed20-4a9d-d704-3e106f66a50f",
        "colab": {
          "base_uri": "https://localhost:8080/",
          "height": 255
        }
      },
      "cell_type": "code",
      "source": [
        "import pickle\n",
        "acc=[]\n",
        "pred_all=[]\n",
        "label_all=[]\n",
        "for j in range(6):\n",
        "    filename1 = 'test_images'+str(j)+'.data'\n",
        "    filename2 = 'test_label'+str(j)+'.data'\n",
        "    f = open(filename1, 'rb')\n",
        "    test_images = pickle.load(f)\n",
        "    f.close()\n",
        "    f = open(filename2, 'rb')\n",
        "    test_label = pickle.load(f)\n",
        "    f.close()\n",
        "    with tf.Session() as sess:\n",
        "        saver.restore(sess,tf.train.latest_checkpoint(\".\"))\n",
        "\n",
        "        test_accuracy, test_predictions = evaluate(test_images, test_label)\n",
        "        #print(test_predictions)\n",
        "        #print(test_label[9020:9080])\n",
        "        print(\"Test Accuracy = {:.6f}\".format(test_accuracy))\n",
        "        acc.append(test_accuracy)\n",
        "        test_predictions=list(test_predictions)\n",
        "        pred_all=pred_all+test_predictions\n",
        "    test_label=list(test_label)\n",
        "    label_all=label_all+test_label\n",
        "print(np.mean(acc))\n",
        "print(acc)"
      ],
      "execution_count": 0,
      "outputs": [
        {
          "output_type": "stream",
          "text": [
            "INFO:tensorflow:Restoring parameters from ./lenet\n",
            "Test Accuracy = 0.899200\n",
            "INFO:tensorflow:Restoring parameters from ./lenet\n",
            "Test Accuracy = 0.899800\n",
            "INFO:tensorflow:Restoring parameters from ./lenet\n",
            "Test Accuracy = 0.894600\n",
            "INFO:tensorflow:Restoring parameters from ./lenet\n",
            "Test Accuracy = 0.892100\n",
            "INFO:tensorflow:Restoring parameters from ./lenet\n",
            "Test Accuracy = 0.896200\n",
            "INFO:tensorflow:Restoring parameters from ./lenet\n",
            "Test Accuracy = 0.895100\n",
            "0.8961666666666668\n",
            "[0.8992, 0.8998, 0.8946, 0.8921, 0.8962, 0.8951]\n"
          ],
          "name": "stdout"
        }
      ]
    },
    {
      "metadata": {
        "id": "9St4WLh5JMR3",
        "colab_type": "code",
        "outputId": "2f3ee32a-d40a-4061-9a58-0c0c186aa794",
        "colab": {
          "base_uri": "https://localhost:8080/",
          "height": 345
        }
      },
      "cell_type": "code",
      "source": [
        "f = open('./acc.data', 'rb')\n",
        "\n",
        "acc = pickle.load(f)\n",
        "print(len(acc))\n",
        "f.close()\n",
        "x=[]\n",
        "for j in range(2,41,2):\n",
        "    x.append(j)\n",
        "fig = plt.figure()\n",
        "plt.plot(x, acc )\n",
        "plt.xlabel('Epoch',fontsize=16)\n",
        "plt.ylabel('IS rate(x100%)',fontsize=16)\n",
        "plt.ylim((.6,1))\n",
        "#my_x_ticks = np.arange(0,41,2)\n",
        "plt.xticks(fontsize=14)\n",
        "plt.yticks(fontsize=14)\n"
      ],
      "execution_count": 0,
      "outputs": [
        {
          "output_type": "stream",
          "text": [
            "20\n"
          ],
          "name": "stdout"
        },
        {
          "output_type": "execute_result",
          "data": {
            "text/plain": [
              "(array([0.6 , 0.65, 0.7 , 0.75, 0.8 , 0.85, 0.9 , 0.95, 1.  ]),\n",
              " <a list of 9 Text yticklabel objects>)"
            ]
          },
          "metadata": {
            "tags": []
          },
          "execution_count": 81
        },
        {
          "output_type": "display_data",
          "data": {
            "image/png": "[encoded data removed]",
            "text/plain": [
              "<Figure size 432x288 with 1 Axes>"
            ]
          },
          "metadata": {
            "tags": []
          }
        }
      ]
    },
    {
      "metadata": {
        "id": "4IWZsV3-n0_F",
        "colab_type": "code",
        "colab": {}
      },
      "cell_type": "code",
      "source": [
        "from google.colab import files\n",
        "import os\n",
        "files.download('./lenet.index')\n",
        "files.download('./lenet.meta')\n",
        "files.download('./lenet.data-00000-of-00001')\n",
        "files.download('./checkpoint')"
      ],
      "execution_count": 0,
      "outputs": []
    },
    {
      "metadata": {
        "id": "l2fbRGhhprjx",
        "colab_type": "code",
        "outputId": "5b7f4f28-e767-4b8e-9449-393c1dbefeb1",
        "colab": {
          "base_uri": "https://localhost:8080/",
          "height": 102
        }
      },
      "cell_type": "code",
      "source": [
        "import pickle\n",
        "f = open('./test_images12.data', 'rb')\n",
        "\n",
        "test_images = pickle.load(f)\n",
        "print(test_images.shape)\n",
        "f.close()\n",
        "f1 = open('./test_label12.data', 'rb')\n",
        "\n",
        "test_label = pickle.load(f1)\n",
        "print(test_label.shape)\n",
        "f1.close()\n",
        "\n",
        "with tf.Session() as sess:\n",
        "\n",
        "    saver.restore(sess,tf.train.latest_checkpoint(\".\"))\n",
        "    \n",
        "    test_accuracy, test_predictions = evaluate(test_images, test_label)\n",
        "    #print(test_predictions)\n",
        "    #print(test_label[9020:9080])\n",
        "    print(\"Test Accuracy = {:.3f}\".format(test_accuracy))\n",
        "acc.append(test_accuracy)\n",
        "print(acc)"
      ],
      "execution_count": 0,
      "outputs": [
        {
          "output_type": "stream",
          "text": [
            "(10000, 32, 32, 1)\n",
            "(10000,)\n",
            "INFO:tensorflow:Restoring parameters from ./lenet\n",
            "Test Accuracy = 0.743\n",
            "[0.6906, 0.6766, 0.7293, 0.6873, 0.7187, 0.7141, 0.759, 0.7064, 0.7232, 0.7314, 0.7452, 0.7427]\n"
          ],
          "name": "stdout"
        }
      ]
    },
    {
      "metadata": {
        "id": "uNyGuDOKCIcx",
        "colab_type": "code",
        "colab": {}
      },
      "cell_type": "code",
      "source": [
        "f = open('./acc.data', 'wb')\n",
        "pickle.dump(acc,f)\n",
        "f.close()\n",
        "from google.colab import files\n",
        "files.download('acc.data')"
      ],
      "execution_count": 0,
      "outputs": []
    },
    {
      "metadata": {
        "id": "_9PMYAEjL8vQ",
        "colab_type": "code",
        "colab": {}
      },
      "cell_type": "code",
      "source": [
        ""
      ],
      "execution_count": 0,
      "outputs": []
    },
    {
      "metadata": {
        "id": "1AIZzzMBHbJ-",
        "colab_type": "code",
        "colab": {}
      },
      "cell_type": "code",
      "source": [
        "acc5=[]"
      ],
      "execution_count": 0,
      "outputs": []
    },
    {
      "metadata": {
        "id": "IASjwykWHdw0",
        "colab_type": "code",
        "outputId": "1a6b3937-906b-4ed5-baa2-3300b903beb1",
        "colab": {
          "base_uri": "https://localhost:8080/",
          "height": 102
        }
      },
      "cell_type": "code",
      "source": [
        "import pickle\n",
        "f = open('./test_images20.data', 'rb')\n",
        "\n",
        "test_images = pickle.load(f)\n",
        "print(test_images.shape)\n",
        "f.close()\n",
        "f1 = open('./test_label20.data', 'rb')\n",
        "\n",
        "test_label = pickle.load(f1)\n",
        "print(test_label.shape)\n",
        "f1.close()\n",
        "\n",
        "with tf.Session() as sess:\n",
        "\n",
        "    saver.restore(sess,tf.train.latest_checkpoint(\".\"))\n",
        "    \n",
        "    test_accuracy, test_predictions = evaluate(test_images, test_label)\n",
        "    #print(test_predictions)\n",
        "    #print(test_label[9020:9080])\n",
        "    print(\"Test Accuracy = {:.3f}\".format(test_accuracy))\n",
        "acc5.append(test_accuracy)\n",
        "print(acc5)"
      ],
      "execution_count": 0,
      "outputs": [
        {
          "output_type": "stream",
          "text": [
            "(10000, 32, 32, 1)\n",
            "(10000,)\n",
            "INFO:tensorflow:Restoring parameters from ./lenet\n",
            "Test Accuracy = 0.778\n",
            "[0.7785, 0.7785, 0.7785, 0.7785]\n"
          ],
          "name": "stdout"
        }
      ]
    },
    {
      "metadata": {
        "id": "mCIs-3vVIXjG",
        "colab_type": "code",
        "outputId": "6be0c8f1-dda2-4edf-ff08-05c3d9208910",
        "colab": {
          "base_uri": "https://localhost:8080/",
          "height": 300
        }
      },
      "cell_type": "code",
      "source": [
        "#accp=acc+acc5[2:end]\n",
        "#print(len(acc))\n",
        "#print(len(acc5[2:end]))\n",
        "#x=[1,2,3,4,5,6,7,8,9,10,11,12,15,20,25,30,35,40]\n",
        "#print(len(x))\n",
        "x=[5,10,15,20]\n",
        "fig = plt.figure()\n",
        "plt.plot(x, acc5 )\n",
        "plt.xlabel('Epoch')\n",
        "plt.ylabel('IS rate(x100%)')\n",
        "plt.ylim((.6,0.8))\n"
      ],
      "execution_count": 0,
      "outputs": [
        {
          "output_type": "execute_result",
          "data": {
            "text/plain": [
              "(0.6, 0.8)"
            ]
          },
          "metadata": {
            "tags": []
          },
          "execution_count": 124
        },
        {
          "output_type": "display_data",
          "data": {
            "image/png": "[encoded data removed]",
            "text/plain": [
              "<Figure size 432x288 with 1 Axes>"
            ]
          },
          "metadata": {
            "tags": []
          }
        }
      ]
    },
    {
      "metadata": {
        "id": "KMEYGkuuL-T4",
        "colab_type": "code",
        "colab": {}
      },
      "cell_type": "code",
      "source": [
        "f = open('./acc5.data', 'wb')\n",
        "pickle.dump(acc5,f)\n",
        "f.close()\n",
        "from google.colab import files\n",
        "files.download('acc5.data')"
      ],
      "execution_count": 0,
      "outputs": []
    },
    {
      "metadata": {
        "id": "-gfR2Exqt66i",
        "colab_type": "code",
        "outputId": "e5d65202-b5da-4dde-b3f0-78d2debfc023",
        "colab": {
          "base_uri": "https://localhost:8080/",
          "height": 2857
        }
      },
      "cell_type": "code",
      "source": [
        "for idx in range(9000,9020):\n",
        "    image = test_images[idx].squeeze()\n",
        "\n",
        "    plt.figure(figsize=(2,2))\n",
        "    plt.imshow(image)"
      ],
      "execution_count": 0,
      "outputs": [
        {
          "output_type": "display_data",
          "data": {
            "image/png": "[encoded data removed]",
            "text/plain": [
              "<Figure size 144x144 with 1 Axes>"
            ]
          },
          "metadata": {
            "tags": []
          }
        },
        {
          "output_type": "display_data",
          "data": {
            "image/png": "[encoded data removed]",
            "text/plain": [
              "<Figure size 144x144 with 1 Axes>"
            ]
          },
          "metadata": {
            "tags": []
          }
        },
        {
          "output_type": "display_data",
          "data": {
            "image/png": "[encoded data removed]",
            "text/plain": [
              "<Figure size 144x144 with 1 Axes>"
            ]
          },
          "metadata": {
            "tags": []
          }
        },
        {
          "output_type": "display_data",
          "data": {
            "image/png": "[encoded data removed]",
            "text/plain": [
              "<Figure size 144x144 with 1 Axes>"
            ]
          },
          "metadata": {
            "tags": []
          }
        },
        {
          "output_type": "display_data",
          "data": {
            "image/png": "[encoded data removed]",
            "text/plain": [
              "<Figure size 144x144 with 1 Axes>"
            ]
          },
          "metadata": {
            "tags": []
          }
        },
        {
          "output_type": "display_data",
          "data": {
            "image/png": "[encoded data removed]",
            "text/plain": [
              "<Figure size 144x144 with 1 Axes>"
            ]
          },
          "metadata": {
            "tags": []
          }
        },
        {
          "output_type": "display_data",
          "data": {
            "image/png": "[encoded data removed]",
            "text/plain": [
              "<Figure size 144x144 with 1 Axes>"
            ]
          },
          "metadata": {
            "tags": []
          }
        },
        {
          "output_type": "display_data",
          "data": {
            "image/png": "[encoded data removed]",
            "text/plain": [
              "<Figure size 144x144 with 1 Axes>"
            ]
          },
          "metadata": {
            "tags": []
          }
        },
        {
          "output_type": "display_data",
          "data": {
            "image/png": "[encoded data removed]",
            "text/plain": [
              "<Figure size 144x144 with 1 Axes>"
            ]
          },
          "metadata": {
            "tags": []
          }
        },
        {
          "output_type": "display_data",
          "data": {
            "image/png": "[encoded data removed]",
            "text/plain": [
              "<Figure size 144x144 with 1 Axes>"
            ]
          },
          "metadata": {
            "tags": []
          }
        },
        {
          "output_type": "display_data",
          "data": {
            "image/png": "[encoded data removed]",
            "text/plain": [
              "<Figure size 144x144 with 1 Axes>"
            ]
          },
          "metadata": {
            "tags": []
          }
        },
        {
          "output_type": "display_data",
          "data": {
            "image/png": "[encoded data removed]",
            "text/plain": [
              "<Figure size 144x144 with 1 Axes>"
            ]
          },
          "metadata": {
            "tags": []
          }
        },
        {
          "output_type": "display_data",
          "data": {
            "image/png": "[encoded data removed]",
            "text/plain": [
              "<Figure size 144x144 with 1 Axes>"
            ]
          },
          "metadata": {
            "tags": []
          }
        },
        {
          "output_type": "display_data",
          "data": {
            "image/png": "[encoded data removed]",
            "text/plain": [
              "<Figure size 144x144 with 1 Axes>"
            ]
          },
          "metadata": {
            "tags": []
          }
        },
        {
          "output_type": "display_data",
          "data": {
            "image/png": "[encoded data removed]",
            "text/plain": [
              "<Figure size 144x144 with 1 Axes>"
            ]
          },
          "metadata": {
            "tags": []
          }
        },
        {
          "output_type": "display_data",
          "data": {
            "image/png": "[encoded data removed]",
            "text/plain": [
              "<Figure size 144x144 with 1 Axes>"
            ]
          },
          "metadata": {
            "tags": []
          }
        },
        {
          "output_type": "display_data",
          "data": {
            "image/png": "[encoded data removed]",
            "text/plain": [
              "<Figure size 144x144 with 1 Axes>"
            ]
          },
          "metadata": {
            "tags": []
          }
        },
        {
          "output_type": "display_data",
          "data": {
            "image/png": "[encoded data removed]",
            "text/plain": [
              "<Figure size 144x144 with 1 Axes>"
            ]
          },
          "metadata": {
            "tags": []
          }
        },
        {
          "output_type": "display_data",
          "data": {
            "image/png": "[encoded data removed]",
            "text/plain": [
              "<Figure size 144x144 with 1 Axes>"
            ]
          },
          "metadata": {
            "tags": []
          }
        },
        {
          "output_type": "display_data",
          "data": {
            "image/png": "[encoded data removed]",
            "text/plain": [
              "<Figure size 144x144 with 1 Axes>"
            ]
          },
          "metadata": {
            "tags": []
          }
        }
      ]
    },
    {
      "metadata": {
        "id": "QzC7X6YFsBRc",
        "colab_type": "code",
        "outputId": "686fefda-416c-4d22-b7e1-b4264941965b",
        "colab": {
          "base_uri": "https://localhost:8080/",
          "height": 872
        }
      },
      "cell_type": "code",
      "source": [
        "with tf.Session() as sess:\n",
        "\n",
        "    saver.restore(sess,tf.train.latest_checkpoint(\".\"))\n",
        "    \n",
        "    test_accuracy, test_predictions = evaluate(test_images, test_label)\n",
        "    #print(test_predictions)\n",
        "    #print(test_label[9020:9080])\n",
        "    print(\"Test Accuracy = {:.3f}\".format(test_accuracy))"
      ],
      "execution_count": 0,
      "outputs": [
        {
          "output_type": "stream",
          "text": [
            "INFO:tensorflow:Restoring parameters from ./lenet\n",
            "[2. 9. 3. 9. 5. 9. 9. 9. 1. 9. 9. 9. 9. 7. 1. 9. 3. 3. 9. 9. 9. 5. 7. 9.\n",
            " 2. 9. 4. 5. 2. 9. 9. 9. 1. 9. 3. 1. 9. 4. 9. 9. 9. 2. 9. 9. 9. 4. 1. 5.\n",
            " 9. 9. 9. 1. 9. 9. 9. 9. 1. 9. 5. 9. 9. 3. 9. 9. 1. 9. 2. 3. 9. 9. 9. 4.\n",
            " 3. 9. 9. 9. 9. 7. 1. 9. 5. 1. 9. 9. 3. 3. 5. 9. 9. 9. 1. 4. 9. 9. 2. 4.\n",
            " 9. 7. 9. 9. 2. 2. 9. 7. 7. 2. 1. 2. 2. 9. 3. 2. 9. 2. 7. 9. 9. 2. 2. 3.\n",
            " 5. 9. 9. 9. 9. 5. 9. 3. 9. 4. 3. 9. 2. 7. 3. 9. 2. 9. 3. 9. 9. 9. 9. 4.\n",
            " 2. 9. 2. 9. 7. 2. 5. 9. 9. 9. 9. 5. 9. 9. 9. 9. 9. 1. 2. 9. 1. 9. 9. 7.\n",
            " 9. 3. 9. 7. 9. 7. 9. 3. 4. 9. 2. 9. 7. 9. 9. 2. 1. 5. 9. 9. 9. 1. 9. 9.\n",
            " 9. 1. 5. 9. 9. 9. 9. 9. 2. 9. 3. 2. 9. 9. 4. 2. 9. 1. 9. 9. 9. 9. 2. 9.\n",
            " 9. 2. 1. 4. 9. 9. 9. 5. 9. 9. 7. 2. 9. 9. 5. 3. 9. 7. 9. 2. 9. 9. 1. 4.\n",
            " 1. 7. 5. 2. 9. 9. 5. 7. 2. 1. 9. 9. 9. 3. 9. 7. 9. 1. 7. 1. 9. 7. 2. 9.\n",
            " 7. 9. 9. 9. 9. 2. 9. 2. 9. 9. 9. 2. 2. 3. 9. 9. 9. 9. 9. 9. 9. 9. 9. 1.\n",
            " 5. 7. 9. 3. 9. 9. 9. 7. 1. 9. 9. 4. 3. 5. 1. 9. 9. 3. 9. 9. 9. 9. 9. 9.\n",
            " 4. 4. 9. 9. 9. 5. 9. 9. 2. 1. 3. 3. 9. 7. 2. 3. 7. 1. 4. 9. 9. 7. 9. 2.\n",
            " 9. 9. 9. 1. 9. 9. 8. 9. 9. 9. 5. 3. 3. 2. 3. 9. 9. 9. 9. 1. 9. 9. 1. 9.\n",
            " 9. 3. 1. 7. 7. 9. 9. 1. 5. 4. 9. 2. 9. 9. 3. 2. 7. 4. 5. 2. 4. 9. 9. 9.\n",
            " 9. 9. 1. 9. 9. 9. 1. 4. 2. 9. 9. 7. 1. 9. 9. 4. 9. 7. 9. 5. 7. 5. 9. 4.\n",
            " 1. 7. 9. 9. 9. 7. 3. 9. 9. 9. 3. 9. 7. 2. 7. 9. 1. 9. 3. 9. 9. 9. 5. 9.\n",
            " 9. 9. 9. 9. 9. 9. 9. 9. 9. 3. 1. 4. 7. 9. 9. 9. 9. 7. 5. 9. 9. 7. 5. 7.\n",
            " 9. 9. 2. 9. 1. 9. 9. 9. 9. 3. 1. 4. 9. 4. 9. 9. 9. 1. 3. 9. 9. 9. 9. 1.\n",
            " 2. 9. 9. 9. 4. 9. 9. 3. 9. 4. 9. 7. 7. 9. 9. 5. 7. 1. 4. 9. 9. 2. 9. 9.\n",
            " 2. 3. 9. 2. 9. 1. 2. 9. 9. 2. 1. 9. 1. 9. 5. 9. 9. 1. 9. 5. 7. 9. 2. 4.\n",
            " 1. 9. 1. 1. 2. 9. 2. 9. 1. 2. 1. 7. 9. 9. 7. 2. 9. 9. 1. 2. 9. 3. 3. 9.\n",
            " 9. 9. 9. 9. 1. 9. 2. 1. 5. 2. 5. 2. 9. 9. 9. 9. 9. 5. 9. 9. 9. 9. 9. 9.\n",
            " 9. 9. 9. 7. 9. 2. 9. 5. 9. 9. 9. 9. 9. 9. 9. 9. 9. 9. 5. 9. 7. 9. 3. 2.\n",
            " 9. 3. 3. 7. 2. 3. 9. 9. 5. 2. 9. 3. 7. 9. 9. 7. 9. 9. 2. 3. 1. 9. 7. 9.\n",
            " 9. 7. 9. 9. 9. 9. 9. 1. 9. 1. 4. 9. 7. 9. 5. 7. 5. 3. 9. 5. 9. 2. 5. 9.\n",
            " 9. 9. 9. 9. 4. 9. 9. 9. 4. 9. 9. 9. 9. 9. 9. 3. 9. 1. 1. 9. 5. 3. 2. 9.\n",
            " 9. 9. 9. 9. 9. 5. 9. 9. 3. 4. 9. 3. 9. 9. 9. 1. 9. 7. 9. 4. 9. 1. 1. 9.\n",
            " 5. 7. 1. 4. 7. 9. 9. 9. 2. 2. 9. 7. 1. 9. 9. 1. 9. 1. 9. 9. 9. 9. 7. 2.\n",
            " 9. 1. 9. 5. 9. 9. 9. 3. 9. 9. 2. 9. 9. 7. 9. 9. 9. 1. 1. 9. 9. 2. 4. 9.\n",
            " 9. 9. 9. 1. 4. 7. 9. 9. 2. 7. 9. 9. 4. 1. 1. 9. 9. 9. 4. 9. 5. 9. 9. 7.\n",
            " 4. 9. 9. 9. 9. 9. 9. 7. 5. 9. 5. 1. 9. 9. 9. 9. 1. 7. 9. 9. 9. 9. 9. 9.\n",
            " 2. 9. 1. 9. 9. 2. 9. 7. 9. 5. 1. 2. 9. 2. 7. 2. 7. 9. 2. 4. 3. 9. 9. 9.\n",
            " 7. 9. 9. 9. 9. 1. 3. 9. 9. 4. 9. 2. 1. 9. 7. 9. 9. 9. 9. 3. 9. 9. 9. 1.\n",
            " 9. 7. 9. 9. 2. 9. 9. 3. 9. 9. 9. 3. 9. 9. 3. 2. 9. 9. 3. 9. 9. 1. 9. 9.\n",
            " 9. 2. 5. 3. 9. 9. 9. 9. 9. 9. 2. 9. 9. 5. 9. 1. 4. 9. 9. 2. 1. 2. 1. 3.\n",
            " 3. 3. 9. 9. 9. 9. 9. 2. 9. 1. 9. 9. 1. 9. 9. 9. 7. 9. 1. 4. 2. 9. 2. 2.\n",
            " 9. 9. 9. 9. 1. 9. 1. 1. 7. 9. 9. 9. 9. 9. 5. 5. 9. 2. 9. 9. 1. 2. 9. 9.\n",
            " 9. 9. 3. 1. 9. 9. 9. 9. 9. 9. 9. 9. 1. 5. 9. 9. 3. 9. 9. 9. 9. 9. 9. 1.\n",
            " 9. 2. 2. 9. 9. 7. 1. 2. 5. 1. 5. 9. 9. 3. 9. 1. 9. 4. 7. 1. 9. 9. 5. 5.\n",
            " 4. 9. 9. 3. 5. 2. 1. 7. 1. 5. 5. 9. 9. 1. 9. 9.]\n",
            "[9. 9. 9. 9. 9. 9. 9. 9. 9. 9. 9. 9. 9. 9. 9. 9. 9. 9. 9. 9. 9. 9. 9. 9.\n",
            " 9. 9. 9. 9. 9. 9. 9. 9. 9. 9. 9. 9. 9. 9. 9. 9. 9. 9. 9. 9. 9. 9. 9. 9.\n",
            " 9. 9. 9. 9. 9. 9. 9. 9. 9. 9. 9. 9.]\n",
            "Test Accuracy = 0.545\n"
          ],
          "name": "stdout"
        }
      ]
    },
    {
      "metadata": {
        "colab_type": "text",
        "id": "2Cfv1V1nACm_"
      },
      "cell_type": "markdown",
      "source": [
        "#Functions for visualisations\n",
        "\n"
      ]
    },
    {
      "metadata": {
        "colab_type": "code",
        "id": "ovQ-ymZOvl0s",
        "colab": {}
      },
      "cell_type": "code",
      "source": [
        "def plot_images(images, cls_true, cls_pred=None):\n",
        "    assert len(images) == len(cls_true) == 9\n",
        "    img_shape = (32, 32)\n",
        "    \n",
        "    # Create figure with 3x3 sub-plots.\n",
        "    fig, axes = plt.subplots(3, 3)\n",
        "    fig.subplots_adjust(hspace=0.3, wspace=0.3)\n",
        "\n",
        "    for i, ax in enumerate(axes.flat):\n",
        "        # Plot image.\n",
        "        ax.imshow(images[i].reshape(img_shape), cmap='binary')\n",
        "\n",
        "        # Show true and predicted classes.\n",
        "        if cls_pred is None:\n",
        "            xlabel = \"True: {0}\".format(cls_true[i])\n",
        "        else:\n",
        "            xlabel = \"True: {0}, Pred: {1}\".format(cls_true[i], cls_pred[i])\n",
        "\n",
        "        ax.set_xlabel(xlabel)\n",
        "        \n",
        "        # Remove ticks from the plot.\n",
        "        ax.set_xticks([])\n",
        "        ax.set_yticks([])\n",
        "        \n",
        "    # Ensure the plot is shown correctly with multiple plots\n",
        "    # in a single Notebook cell.\n",
        "    plt.show()"
      ],
      "execution_count": 0,
      "outputs": []
    },
    {
      "metadata": {
        "colab_type": "code",
        "id": "3o9PDWJQvl0x",
        "outputId": "02acd072-ecbf-449b-8c27-c4e8f054f60b",
        "colab": {
          "base_uri": "https://localhost:8080/",
          "height": 262
        }
      },
      "cell_type": "code",
      "source": [
        "def plot_example_errors(y_pred, y_true):\n",
        "    # Use TensorFlow to get a list of boolean values\n",
        "    # whether each test-image has been correctly classified,\n",
        "    # and a list for the predicted class of each image.\n",
        "    correct_prediction = np.equal(y_pred, y_true)\n",
        "       \n",
        "    # Negate the boolean array.\n",
        "    incorrect = np.equal(correct_prediction, False)\n",
        "    \n",
        "    # Get the images from the test-set that have been\n",
        "    # incorrectly classified.\n",
        "    images = X_test[incorrect]\n",
        "    \n",
        "    # Get the predicted classes for those images.\n",
        "    cls_pred = y_pred[incorrect]\n",
        "\n",
        "    # Get the true classes for those images.\n",
        "    cls_true = y_true[incorrect]\n",
        "    \n",
        "    # Plot the first 9 images.\n",
        "    plot_images(images=images[0:9],\n",
        "                cls_true=cls_true[0:9],\n",
        "                cls_pred=cls_pred[0:9].astype(np.int))\n",
        "\n",
        "plot_example_errors(test_predictions, y_test)"
      ],
      "execution_count": 0,
      "outputs": [
        {
          "output_type": "display_data",
          "data": {
            "image/png": "[encoded data removed]",
            "text/plain": [
              "<Figure size 432x288 with 9 Axes>"
            ]
          },
          "metadata": {
            "tags": []
          }
        }
      ]
    },
    {
      "metadata": {
        "colab_type": "text",
        "id": "jZUizyvyvl00"
      },
      "cell_type": "markdown",
      "source": [
        "### Exercises\n",
        "\n",
        "These are a few suggestions for exercises that may help improve your skills with TensorFlow. It is important to get hands-on experience with TensorFlow in order to learn how to use it properly.\n",
        "\n",
        "You may want to backup this Notebook before making any changes.\n",
        "\n",
        "* Change the learning-rate for the optimizer.\n",
        "* Change the optimizer to e.g. `AdamOptimizer`  \n",
        "* Change the batch-size to e.g. 1 or 1000.\n",
        "* How do these changes affect the performance?\n",
        "* Can you add or remove fully connected and convolutional layers? How does the performance changes?\n",
        "* Do you get the exact same results if you run the Notebook multiple times without changing any parameters? Why or why not?\n",
        "* Explain to a friend how the program works.\n",
        " "
      ]
    },
    {
      "metadata": {
        "colab_type": "text",
        "id": "b70Zh1Wgvl01"
      },
      "cell_type": "markdown",
      "source": [
        "License (MIT)\n",
        "Copyright (c) 2016 by Magnus Erik Hvass Pedersen\n",
        "\n",
        "Permission is hereby granted, free of charge, to any person obtaining a copy of this software and associated documentation files (the \"Software\"), to deal in the Software without restriction, including without limitation the rights to use, copy, modify, merge, publish, distribute, sublicense, and/or sell copies of the Software, and to permit persons to whom the Software is furnished to do so, subject to the following conditions:\n",
        "\n",
        "The above copyright notice and this permission notice shall be included in all copies or substantial portions of the Software.\n",
        "\n",
        "THE SOFTWARE IS PROVIDED \"AS IS\", WITHOUT WARRANTY OF ANY KIND, EXPRESS OR IMPLIED, INCLUDING BUT NOT LIMITED TO THE WARRANTIES OF MERCHANTABILITY, FITNESS FOR A PARTICULAR PURPOSE AND NONINFRINGEMENT. IN NO EVENT SHALL THE AUTHORS OR COPYRIGHT HOLDERS BE LIABLE FOR ANY CLAIM, DAMAGES OR OTHER LIABILITY, WHETHER IN AN ACTION OF CONTRACT, TORT OR OTHERWISE, ARISING FROM, OUT OF OR IN CONNECTION WITH THE SOFTWARE OR THE USE OR OTHER DEALINGS IN THE SOFTWARE.\n"
      ]
    }
  ]
}